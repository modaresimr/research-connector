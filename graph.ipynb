{
 "cells": [
  {
   "cell_type": "code",
   "execution_count": 10,
   "id": "1561c902",
   "metadata": {},
   "outputs": [],
   "source": [
    "#imports\n",
    "from pyquery import PyQuery as pq\n",
    "# !pip install requests\n",
    "import json\n",
    "import requests\n",
    "\n"
   ]
  },
  {
   "cell_type": "markdown",
   "id": "a2a15eba",
   "metadata": {},
   "source": [
    "# Search in HAL"
   ]
  },
  {
   "cell_type": "code",
   "execution_count": 135,
   "id": "30b50683",
   "metadata": {},
   "outputs": [
    {
     "data": {
      "text/plain": [
       "'<!DOCTYPE html><html xmlns=\"http://www.w3.org/1999/xhtml\" lang=\"en\"><head>    <meta charset=\"UTF-8\">    <meta name=\"viewport\" content=\"width=device-width, initial-scale=1, shrink-to-fit=no\">            <link href=\"//cdn.mathjax.org\" rel=\"dns-prefetch\" >    <link rel=\"apple-touch-icon\" sizes=\"180x180\" href=\"/assets/favicon/apple-touch-icon.png\">    <link rel=\"icon\" type=\"image/png\" sizes=\"32x32\" href=\"/assets/favicon/favicon-32x32.png\">    <link rel=\"icon\" type=\"image/png\" sizes=\"16x16\" href=\"/assets/favicon/favicon-16x16.png\">    <link rel=\"manifest\" href=\"/assets/site.webmanifest\">    <link rel=\"mask-icon\" href=\"/assets/favicon/safari-pinned-tab.svg\" color=\"#000092\">    <meta name=\"msapplication-TileColor\" content=\"#000092\">    <meta name=\"theme-color\" content=\"#ffffff\">            <link rel=\"stylesheet\" href=\"/assets/build/main.css\" />        <link href=\"https://cdnjs.cloudflare.com/ajax/libs/select2/4.0.13/css/select2.min.css\" rel=\"stylesheet\"><link href=\"/assets/css/select2totree.css\" rel=\"stylesheet\">                            <link rel=\"stylesheet\" href=\"/public/style.ng.css?1674236289\" />                    <script src=\"/assets/js/translations.php?lang=en\"></script>        <script src=\"/assets/build/runtime.js\"></script>        <script src=\"/assets/build/main.js\"></script>        <script src=\"//cdnjs.cloudflare.com/ajax/libs/mathjax/2.7.5/MathJax.js?config=TeX-AMS-MML_HTMLorMML\" async></script><script type=\\'text/x-mathjax-config\\'>MathJax.Hub.Config({tex2jax: {inlineMath: [[\\'$\\',\\'$\\'], [\\'$$\\',\\'$$\\']]}});</script>        <script src=\"https://cdnjs.cloudflare.com/ajax/libs/select2/4.0.13/js/select2.min.js\"></script><script src=\"/assets/js/select2totree.js\"></script>        <script src=\"/static/js/tarteaucitron/tarteaucitron.js\"></script>    <script src=\"/static/js/tarteaucitron/tarteaucitron.servicesHAL.js\"></script><script type=\"text/javascript\">    tarteaucitron.init({        \"privacyUrl\": \"\", /* Privacy policy url */        \"hashtag\": \"#tarteaucitron\", /* Open the panel with this hashtag */        \"cookieName\": \"tarteaucitron\", /* Cookie name */        \"orientation\": \"top\", /* Banner position (top - bottom) */        \"showAlertSmall\": true, /* Show the small banner on bottom right */        \"cookieslist\": true, /* Show the cookie list */        \"adblocker\": false, /* Show a Warning if an adblocker is detected */        \"AcceptAllCta\" : true, /* Show the accept all button when highPrivacy on */        \"highPrivacy\": false, /* Disable auto consent */        \"handleBrowserDNTRequest\": false, /* If Do Not Track == 1, disallow all */        \"removeCredit\": false, /* Remove credit link */        \"moreInfoLink\": true, /* Show more info link */        \"useExternalCss\": false, /* If false, the tarteaucitron.css file will be loaded */        \"cookieDomain\": \".archives-ouvertes.fr\", /* Shared cookie for multisite */        \"readmoreLink\": \"/cookiespolicy\" /* Change the default readmore link */    });</script>                                <!-- Matomo -->        <script type=\"text/javascript\">            var _paq = _paq || [];            _paq.push([\\'trackPageView\\']);            _paq.push([\\'enableLinkTracking\\']);            (function() {                var u=\"//piwik-hal.ccsd.cnrs.fr/\";                _paq.push([\\'setTrackerUrl\\', u+\\'matomo.php\\']);                _paq.push([\\'setSiteId\\', \\'17\\']);                                    var secondaryTracker = \\'//piwik-hal.ccsd.cnrs.fr/matomo.php\\';var secondaryWebsiteId = 92;_paq.push([\\'addTracker\\', secondaryTracker, secondaryWebsiteId]);                                var d=document, g=d.createElement(\\'script\\'), s=d.getElementsByTagName(\\'script\\')[0];                g.type=\\'text/javascript\\'; g.async=true; g.defer=true; g.src=u+\\'matomo.js\\'; s.parentNode.insertBefore(g,s);            })();        </script>        <!-- End Matomo Code -->        <noscript>        <img src=\"//piwik-hal.ccsd.cnrs.fr//matomo.php?idsite=17&amp;rec=1\"  style=\" border:0;\"  alt=\"\" />                    <img src=\"//piwik-hal.ccsd.cnrs.fr//matomo.php?idsite=92&amp;rec=1\"  style=\" border:0;\"  alt=\"\" />            </noscript>        <title> error-error -  Erreur Archive ouverte HAL</title></head><body><a href=\"#skip-link\" class=\"sr-only skip-link-top\"> Access content directly </a>    <nav class=\"navbar navbar-expand-lg header navbar-dark\" aria-label=\"Menu\">    <!-- Navbar pour taille mobile -->    <a class=\"navbar-brand logo-HAL\" href=\"https://hal.archives-ouvertes.fr\">        <img src=\"/assets/img/hal-logo-header.png\" height=\"40px\" title=\"HAL open science\"/>        <img src=\"/assets/img/hal-logo-text.png\" height=\"40px\" title=\"HAL open science\"/>    </a>    <button type=\"button\" class=\"navbar-toggler\" data-toggle=\"collapse\" data-target=\"#nav-services\"            aria-expanded=\"false\" aria-label=\"Toggle navigation\" style=\"border-radius: 0\">        <span class=\"hamburger\">                        <span></span> <span></span> <span></span>        </span>    </button>    <div class=\"collapse navbar-collapse\" style=\"height: 60px\" id=\"nav-services\">        <ul class=\"nav navbar-nav ml-auto\" style=\"height: inherit; align-items: center;\">                                    <li class=\"d-none d-lg-block\">                <a href=\"https://doc.archives-ouvertes.fr/\" target=\"_blank\">                    <i class=\"icon-documentation text-xl\" aria-hidden=\"true\"></i>                    <span class=\\'sr-only\\'> Documentation</span>                </a>            </li>          <!-- Choix des langues -->            <li class=\"nav-item dropdown\">                <form action=\"#\" method=\"post\" id=\"formLang\">                    <input type=\"hidden\" name=\"lang\" id=\"lang\" value=\"\" />                    <button type=\"button\" data-toggle=\"dropdown\" aria-expanded=\"false\" class=\"btn btn-secondary dropdown-toggle\" id=\"dropdownLang\" aria-label=\"Languages\">                        <span> EN</span>                    </button>                                            <div class=\"dropdown-menu dropdown-menu-right menu-lang\" aria-labelledby=\"dropdownLang\">                                                            <div class=\"list-group-item list-group-item-action\" data-value=\"fr\"> French (FR)</div>                                                            <div class=\"list-group-item list-group-item-action\" data-value=\"en\"> English (EN)</div>                                                    </div>                                    </form>            </li>                            <li class=\"nav-item dropdown\" id=\"userList\">                                      <form class=\"form-inline\" action=\"/user/login?url=https://hal.science/view/metadata\" id=\"form-login\" method=\"post\" style=\"justify-content: space-around;\">                         <input type=\"hidden\" name=\"forward-controller\" value=\"error\" /><input type=\"hidden\" name=\"forward-action\" value=\"error\" /><input type=\"hidden\" name=\"docid\" value=\"03824772\" />                         <div class=\"input-group\">                             <button type=\"submit\" class=\"hal-login-button\"> Sign in</button>                         </div>                     </form>                                 </li>                     </ul>     </div> </nav>    <nav class=\" navbar navbar-expand-lg sub-header\" aria-label=\"Secondary menu\">    <ul class=\"nav navbar-nav\" id=\"second-navbar\">                            <li class=\"nav-item dropdown site-env\">                <span class=\"color-major-color\">                    <a href=\"/\" title=\"\">HAL open science                        <strong>                                                                                                                </strong></a>                </span>            </li>                        <li id=\"searchHeaderList\" class=\"nav-item dropdown\">                                    <div>    <form action=\"/search/index\" method=\"get\" id=\"searchHeaderNG\" style=\"margin: 0;\" name=\"search-simple\" role=\"search\" class=\"position-relative\">        <button type=\"submit\" aria-label=\"Search\" class=\"hal-main-search-button\">            <span class=\"icon-search\" aria-hidden=\"true\"></span>        </button>        <label for=\"littleSearchBar\" class=\"sr-only\"> Search </label>        <input type=\"text\" name=\"q\" id=\"littleSearchBar\" class=\"hal-main-search-input autocompletesearch\" autocomplete=\"off\" data-collurl=\"/\" placeholder=\"Search document, author, keyword...\"        value=\"\">        <div class=\"spinner-border position-absolute search-spinner d-none\"  role=\"status\">            <span class=\"sr-only\">Loading...</span>        </div>    </form>    <button aria-expanded=\"false\" data-toggle=\"collapse\" data-target=\"#collapseSearch\" class=\"hal-main-advsearch-button\" aria-label=\"Advanced Search\">        <span class=\"icon-drop_down\" aria-hidden=\"true\"></span>    </button>        <div class=\"collapse\" id=\"collapseSearch\">        <div id=\"advSearchHeader\">            <h3> Advanced Search</h3>                            <script type=\\'text/javascript\\'>/* Fichier DOUBLON    Fichier initialisation des éléments sélectionnable dans les selects des inputs et textarea pour les entrées de langues    Pour les identifiants qui utilisent le même principe, le fichier se trouve dans le projet hal :                            public/js/form/decorator/lang/init.js    Les éléments et les décorateurs Identifiant se trouvent dans hal tandis que les éléments de formulaires se trouvent dans ccsd    La copie de ce fichier facilite donc le lecture en évitant d\\'indiquer un chemin spécifique pour ce fichier */function LangInit (e, name){    let link = $(e);    if (link.closest(\\'li\\').hasClass(\\'disabled\\')) {        return false;    }    let newValue = link.attr(\\'data-val\\');    let newLabel = link.html();    let button = link.closest(\\'ul\\').prev(\\'button.dropdown-toggle\\');    button.val(newValue);    button.contents().first().replaceWith(newLabel);    let group = link.closest(\\'.input-group, .textarea-group\\');    let elem = group.find(\\'input, textarea\\');    if (elem.attr(\\'data-language\\')) {        let oldValue = elem.attr(\\'lang\\');        elem.attr(\\'data-language\\', newValue);        let groups = group.parent();        groups.find(\\'ul\\').each(function (i) {            $(this).find(\\'li a[data-val=\\' + oldValue + \\']\\').closest(\\'li\\').removeClass(\\'disabled\\');            $(this).find(\\'li a[data-val=\\' + newValue + \\']\\').closest(\\'li\\').addClass(\\'disabled\\');        });        let lastGroup = groups.find(\\'.input-group:last, .textarea-group:last\\');        let firstLinkEnabled = lastGroup.find(\\'ul li[class!=\"disabled\"]:first a\\');        if (typeof firstLinkEnabled.html() != \\'undefined\\') {            lastGroup.find(\\'button.dropdown-toggle\\').val(firstLinkEnabled.attr(\\'data-val\\'));            lastGroup.find(\\'button.dropdown-toggle\\').contents().first().replaceWith(firstLinkEnabled.text());            let nameTmp = name + \"[\" + firstLinkEnabled.attr(\\'data-val\\') + \"]\";            if (elem.attr(\\'data-keyword\\') ) {                nameTmp = nameTmp + \"[]\";            }            lastGroup.find(\"input:first, textarea:first\").attr(\\'name\\', nameTmp);        } else {            lastGroup.find(\"input:first, textarea:first\").removeAttr(\\'name\\');            lastGroup.hide();        }    }    elem.attr(\\'lang\\', newValue);    name = name + \"[\" + newValue + \"]\";    if (elem.attr(\\'data-keyword\\')) {        name = name + \"[]\";    }    elem.attr(\\'name\\', name);    return false;}function MultiTextSimpleLangKeywordDelete (btn) {    $(btn).closest(\\'div\\').remove();                }function MultiTextSimpleLangKeywordAdd (btn, name){    var s = $(btn).closest(\\'div\\').find(\\'input\\').val();\\tvar empty = s == \"\";\\tif (!empty) {\\t\\tvar r = new RegExp (\",|;\", \"g\");\\t\\tmatches = s.split(r);\\t\\tfor (i in matches) {\\t\\t\\ts = matches[i].replace(/^\"(.*)\"$/, \\'$1\\').replace(/^\\'(.*)\\'$/, \\'$1\\').trim();\\t\\t\\tif (s != \"\") {\\t\\t\\t\\tvar value = s;\\t\\t\\t\\tvalue = value.replace(new RegExp(\"(>)\", \"g\"), \\'&gt;\\').replace(new RegExp(\"(<)\", \"g\"), \\'&lt;\\');\\t\\t\\t\\tif ($(btn).closest(\\'div\\').find(\\'input\\').attr(\"data-length\")) {\\t\\t\\t\\t\\tlet length = Number($(btn).closest(\\'div\\').find(\\'input\\').attr(\"data-length\"));\\t\\t\\t\\t\\tvalue = value.substring(0,length) + (value.length > length ? \\'...\\' : \\'\\')\\t\\t\\t\\t}\\t\\t\\t\\tvar container = $(btn).closest(\"div\").parent();\\t\\t\\t\\tvar inputGroup = $(container).find(\\'.input-group:last\\');\\t\\t\\t\\tvar clone = $(inputGroup).clone();\\t\\t\\t\\tvar lang = $(clone).find(\\'.form-btn-lang\\').val();\\t\\t\\t\\t// Find the id and increment it\\t\\t\\t\\tvar id = $(clone).find(\\'input\\').attr(\\'id\\');\\t\\t\\t\\tvar found = id.match(/[0-9]+/);\\t\\t\\t\\tvar idNb = (found == null)? 1 : Number(found[0]) + 1;\\t\\t\\t\\t$(inputGroup).find(\\'input\\').attr(\\'id\\', (id.replace(/[0-9]+/, \"\") + idNb));\\t\\t\\t\\t$(clone).find(\\'input\\').attr(\\'type\\', \\'text\\');\\t\\t\\t\\t$(clone).find(\\'input\\').attr(\\'name\\', name + \"[\" + lang + \"][]\");\\t\\t\\t\\t$(clone).find(\\'input\\').attr(\\'lang\\', lang);\\t\\t\\t\\t$(clone).find(\\'input\\').attr(\\'data-keyword\\', \"true\");\\t\\t\\t\\t$(clone).find(\\'input\\').val(value);\\t\\t\\t\\t$(clone).find(\".errors\").remove();\\t\\t\\t\\t$(clone).find(\\'.icon-plus\\').removeClass(\"icon-plus\").addClass(\"icon-delete\").parent().attr(\\'onclick\\', \\'MultiTextSimpleLangKeywordDelete(this)\\');\\t\\t\\t\\t$(clone).find(\\'button\\').find(\\'span\\').text(translate(\\'Supprimer\\'));\\t\\t\\t\\t$(clone).insertBefore($(container).find(\\'> :last\\'));\\t\\t\\t}\\t\\t}\\t\\t$(btn).closest(\\'div\\').find(\\'input:first\\').val(\"\");\\t\\t$(btn).closest(\\'div\\').find(\\'input:first\\').focus();\\t}}  </script><form id=\"advSearch\" role=\"form\" data-library=\"ccsd\" action=\"/search/index/?\" method=\"get\"><div class=\"form-group row \" id=\"document-element\"><label for=\"document\" class=\"col-md-3 control-label optional\">Information de documents</label><div class=\"col-md-9\"><div class=\"input-group\" style=\"margin-bottom : 10px;\"><button class=\\'btn btn-sm btn-default dropdown-toggle form-btn-lang\\' style=\\' z-index:0!important;\\' data-toggle=\\'dropdown\\' type=\\'button\\' value=\\'title_t\\'>Titles&nbsp;</button><ul class=\\'dropdown-menu\\' role=\\'menu\\' style=\\'max-height: 140px; overflow:auto;\\'><li class=\\'dropdown-item\\'><a data-val=\\'title_t\\' href=\\'javascript:void(0);\\' onclick=\"LangInit(this, \\'qa\\');\">Titles</a></li><li class=\\'dropdown-item\\'><a data-val=\\'subTitle_t\\' href=\\'javascript:void(0);\\' onclick=\"LangInit(this, \\'qa\\');\">Subtitle</a></li><li class=\\'dropdown-item\\'><a data-val=\\'bookTitle_t\\' href=\\'javascript:void(0);\\' onclick=\"LangInit(this, \\'qa\\');\">Work title</a></li><li class=\\'dropdown-item\\'><a data-val=\\'serie_t\\' href=\\'javascript:void(0);\\' onclick=\"LangInit(this, \\'qa\\');\">hal_serie_t</a></li><li class=\\'dropdown-item\\'><a data-val=\\'text_fulltext\\' href=\\'javascript:void(0);\\' onclick=\"LangInit(this, \\'qa\\');\">Default search field (multi-criteria) + PDF full text</a></li><li class=\\'dropdown-item\\'><a data-val=\\'abstract_t\\' href=\\'javascript:void(0);\\' onclick=\"LangInit(this, \\'qa\\');\">Abstract</a></li><li class=\\'dropdown-item\\'><a data-val=\\'fulltext_t\\' href=\\'javascript:void(0);\\' onclick=\"LangInit(this, \\'qa\\');\">Full text of PDF document</a></li><li class=\\'dropdown-item\\'><a data-val=\\'keyword_t\\' href=\\'javascript:void(0);\\' onclick=\"LangInit(this, \\'qa\\');\">Keywords</a></li><li class=\\'dropdown-item\\'><a data-val=\\'docType_s\\' href=\\'javascript:void(0);\\' onclick=\"LangInit(this, \\'qa\\');\">Document type</a></li><li class=\\'dropdown-item\\'><a data-val=\\'docSubType_s\\' href=\\'javascript:void(0);\\' onclick=\"LangInit(this, \\'qa\\');\">Document subtype</a></li><li class=\\'dropdown-item\\'><a data-val=\\'identifiers_id\\' href=\\'javascript:void(0);\\' onclick=\"LangInit(this, \\'qa\\');\">All document identifiers</a></li><li class=\\'dropdown-item\\'><a data-val=\\'halId_id\\' href=\\'javascript:void(0);\\' onclick=\"LangInit(this, \\'qa\\');\">HAL submission identifier</a></li><li class=\\'dropdown-item\\'><a data-val=\\'language_t\\' href=\\'javascript:void(0);\\' onclick=\"LangInit(this, \\'qa\\');\">Language of document (text)</a></li><li class=\\'dropdown-item\\'><a data-val=\\'country_t\\' href=\\'javascript:void(0);\\' onclick=\"LangInit(this, \\'qa\\');\">Country (Text)</a></li><li class=\\'dropdown-item\\'><a data-val=\\'city_t\\' href=\\'javascript:void(0);\\' onclick=\"LangInit(this, \\'qa\\');\">City</a></li><li class=\\'dropdown-item\\'><a data-val=\\'inPress_bool\\' href=\\'javascript:void(0);\\' onclick=\"LangInit(this, \\'qa\\');\">hal_inPress_bool</a></li></ul><input type=\"text\" name=\"qa[title_t][]\" id=\"document\" value=\"\" class=\"input-flex form-control input-sm\" lang=\"title_t\" aria-describedby=\"document-error\" style=\" \" data-keyword=\"1\" /><span class=\"input-group-btn\"><button type=\\'button\\' class=\\'btn btn-sm btn-primary form-btn-multi form-btn-add\\' onclick=\\'MultiTextSimpleLangKeywordAdd(this, \"qa\");\\' data-toggle=\\'tooltip\\' data-placement=\\'right\\' data-original-title=\\'Add\\'><i class=\\'icon icon-plus\\'></i> <span> Add</span></button></span></div></div></div><div class=\"form-group row \" id=\"author-element\"><label for=\"author\" class=\"col-md-3 control-label optional\">Author</label><div class=\"col-md-9\"><div class=\"input-group\" style=\"margin-bottom : 10px;\"><button class=\\'btn btn-sm btn-default dropdown-toggle form-btn-lang\\' style=\\' z-index:0!important;\\' data-toggle=\\'dropdown\\' type=\\'button\\' value=\\'auth_t\\'>Author (multi-criteria)&nbsp;</button><ul class=\\'dropdown-menu\\' role=\\'menu\\' style=\\'max-height: 140px; overflow:auto;\\'><li class=\\'dropdown-item\\'><a data-val=\\'auth_t\\' href=\\'javascript:void(0);\\' onclick=\"LangInit(this, \\'qa\\');\">Author (multi-criteria)</a></li><li class=\\'dropdown-item\\'><a data-val=\\'authFullName_t\\' href=\\'javascript:void(0);\\' onclick=\"LangInit(this, \\'qa\\');\">Author: Full name</a></li><li class=\\'dropdown-item\\'><a data-val=\\'authLastName_t\\' href=\\'javascript:void(0);\\' onclick=\"LangInit(this, \\'qa\\');\">Author: Last name</a></li><li class=\\'dropdown-item\\'><a data-val=\\'authFirstName_t\\' href=\\'javascript:void(0);\\' onclick=\"LangInit(this, \\'qa\\');\">Author: First name</a></li><li class=\\'dropdown-item\\'><a data-val=\\'authMiddleName_t\\' href=\\'javascript:void(0);\\' onclick=\"LangInit(this, \\'qa\\');\">Author: middle name</a></li><li class=\\'dropdown-item\\'><a data-val=\\'authOrganism_t\\' href=\\'javascript:void(0);\\' onclick=\"LangInit(this, \\'qa\\');\">Author: funding institution</a></li><li class=\\'dropdown-item\\'><a data-val=\\'authIdHal_s\\' href=\\'javascript:void(0);\\' onclick=\"LangInit(this, \\'qa\\');\">Author: IdHal (string)</a></li><li class=\\'dropdown-item\\'><a data-val=\\'authQuality_s\\' href=\\'javascript:void(0);\\' onclick=\"LangInit(this, \\'qa\\');\">Author: function</a></li><li class=\\'dropdown-item\\'><a data-val=\\'authIdHal_i\\' href=\\'javascript:void(0);\\' onclick=\"LangInit(this, \\'qa\\');\">Author: personID (integer)</a></li><li class=\\'dropdown-item\\'><a data-val=\\'authId_i\\' href=\\'javascript:void(0);\\' onclick=\"LangInit(this, \\'qa\\');\">hal_authId_i</a></li><li class=\\'dropdown-item\\'><a data-val=\\'authOrganismId_i\\' href=\\'javascript:void(0);\\' onclick=\"LangInit(this, \\'qa\\');\">Author: funding institution identifier</a></li><li class=\\'dropdown-item\\'><a data-val=\\'authStructId_i\\' href=\\'javascript:void(0);\\' onclick=\"LangInit(this, \\'qa\\');\">Author: Structure identifier</a></li><li class=\\'dropdown-item\\'><a data-val=\\'director_t\\' href=\\'javascript:void(0);\\' onclick=\"LangInit(this, \\'qa\\');\">Thesis director</a></li><li class=\\'dropdown-item\\'><a data-val=\\'publisher_t\\' href=\\'javascript:void(0);\\' onclick=\"LangInit(this, \\'qa\\');\">Publisher</a></li><li class=\\'dropdown-item\\'><a data-val=\\'scientificEditor_t\\' href=\\'javascript:void(0);\\' onclick=\"LangInit(this, \\'qa\\');\">Scientific editor</a></li><li class=\\'dropdown-item\\'><a data-val=\\'seriesEditor_t\\' href=\\'javascript:void(0);\\' onclick=\"LangInit(this, \\'qa\\');\">Series editor</a></li></ul><input type=\"text\" name=\"qa[auth_t][]\" id=\"author\" value=\"\" class=\"input-flex form-control input-sm\" lang=\"auth_t\" aria-describedby=\"author-error\" style=\" \" data-keyword=\"1\" /><span class=\"input-group-btn\"><button type=\\'button\\' class=\\'btn btn-sm btn-primary form-btn-multi form-btn-add\\' onclick=\\'MultiTextSimpleLangKeywordAdd(this, \"qa\");\\' data-toggle=\\'tooltip\\' data-placement=\\'right\\' data-original-title=\\'Add\\'><i class=\\'icon icon-plus\\'></i> <span> Add</span></button></span></div></div></div><div class=\"form-group row \" id=\"structure-element\"><label for=\"structure\" class=\"col-md-3 control-label optional\">Structure</label><div class=\"col-md-9\"><div class=\"input-group\" style=\"margin-bottom : 10px;\"><button class=\\'btn btn-sm btn-default dropdown-toggle form-btn-lang\\' style=\\' z-index:0!important;\\' data-toggle=\\'dropdown\\' type=\\'button\\' value=\\'structure_t\\'>Structure (multi-criteria)&nbsp;</button><ul class=\\'dropdown-menu\\' role=\\'menu\\' style=\\'max-height: 140px; overflow:auto;\\'><li class=\\'dropdown-item\\'><a data-val=\\'structure_t\\' href=\\'javascript:void(0);\\' onclick=\"LangInit(this, \\'qa\\');\">Structure (multi-criteria)</a></li><li class=\\'dropdown-item\\'><a data-val=\\'structAcronym_t\\' href=\\'javascript:void(0);\\' onclick=\"LangInit(this, \\'qa\\');\">Structure: Acronym</a></li><li class=\\'dropdown-item\\'><a data-val=\\'structName_t\\' href=\\'javascript:void(0);\\' onclick=\"LangInit(this, \\'qa\\');\">Structure: Name</a></li><li class=\\'dropdown-item\\'><a data-val=\\'structCode_t\\' href=\\'javascript:void(0);\\' onclick=\"LangInit(this, \\'qa\\');\">Structure: Code</a></li><li class=\\'dropdown-item\\'><a data-val=\\'structCountry_t\\' href=\\'javascript:void(0);\\' onclick=\"LangInit(this, \\'qa\\');\">Structure: Country</a></li><li class=\\'dropdown-item\\'><a data-val=\\'structType_s\\' href=\\'javascript:void(0);\\' onclick=\"LangInit(this, \\'qa\\');\">Structure: Type</a></li><li class=\\'dropdown-item\\'><a data-val=\\'structValid_s\\' href=\\'javascript:void(0);\\' onclick=\"LangInit(this, \\'qa\\');\">Structure: Referential status</a></li><li class=\\'dropdown-item\\'><a data-val=\\'structId_i\\' href=\\'javascript:void(0);\\' onclick=\"LangInit(this, \\'qa\\');\">Structure: Internal structure identifier</a></li><li class=\\'dropdown-item\\'><a data-val=\\'rteamStructCountry_s\\' href=\\'javascript:void(0);\\' onclick=\"LangInit(this, \\'qa\\');\">Structure/research team: Country</a></li><li class=\\'dropdown-item\\'><a data-val=\\'deptStructCountry_s\\' href=\\'javascript:void(0);\\' onclick=\"LangInit(this, \\'qa\\');\">Structure/department: Country</a></li><li class=\\'dropdown-item\\'><a data-val=\\'labStructCountry_s\\' href=\\'javascript:void(0);\\' onclick=\"LangInit(this, \\'qa\\');\">Structure/laboratory: Country</a></li><li class=\\'dropdown-item\\'><a data-val=\\'rgrpLabStructCountry_s\\' href=\\'javascript:void(0);\\' onclick=\"LangInit(this, \\'qa\\');\">Structure/group of departments: State</a></li><li class=\\'dropdown-item\\'><a data-val=\\'instStructCountry_s\\' href=\\'javascript:void(0);\\' onclick=\"LangInit(this, \\'qa\\');\">Structure/institution: Country</a></li><li class=\\'dropdown-item\\'><a data-val=\\'rgrpInstStructCountry_s\\' href=\\'javascript:void(0);\\' onclick=\"LangInit(this, \\'qa\\');\">Structure/group of institutions: Country</a></li></ul><input type=\"text\" name=\"qa[structure_t][]\" id=\"structure\" value=\"\" class=\"input-flex form-control input-sm\" lang=\"structure_t\" aria-describedby=\"structure-error\" style=\" \" data-keyword=\"1\" /><span class=\"input-group-btn\"><button type=\\'button\\' class=\\'btn btn-sm btn-primary form-btn-multi form-btn-add\\' onclick=\\'MultiTextSimpleLangKeywordAdd(this, \"qa\");\\' data-toggle=\\'tooltip\\' data-placement=\\'right\\' data-original-title=\\'Add\\'><i class=\\'icon icon-plus\\'></i> <span> Add</span></button></span></div></div></div><div class=\"form-group row \" id=\"qa-element\"><label for=\"qa\" class=\"col-md-3 control-label optional\">Autres</label><div class=\"col-md-9\"><div class=\"input-group\" style=\"margin-bottom : 10px;\"><button class=\\'btn btn-sm btn-default dropdown-toggle form-btn-lang\\' style=\\' z-index:0!important;\\' data-toggle=\\'dropdown\\' type=\\'button\\' value=\\'text\\'>Default search field (multi-criteria)&nbsp;</button><ul class=\\'dropdown-menu\\' role=\\'menu\\' style=\\'max-height: 140px; overflow:auto;\\'><li class=\\'dropdown-item\\'><a data-val=\\'text\\' href=\\'javascript:void(0);\\' onclick=\"LangInit(this, \\'qa\\');\">Default search field (multi-criteria)</a></li><li class=\\'dropdown-item\\'><a data-val=\\'--sep1\\' href=\\'javascript:void(0);\\' onclick=\"LangInit(this, \\'qa\\');\"></a></li><li class=\\'dropdown-item\\'><a data-val=\\'journal_t\\' href=\\'javascript:void(0);\\' onclick=\"LangInit(this, \\'qa\\');\">Journals (multi-criteria)</a></li><li class=\\'dropdown-item\\'><a data-val=\\'journalPublisher_t\\' href=\\'javascript:void(0);\\' onclick=\"LangInit(this, \\'qa\\');\">Journal: Publisher</a></li><li class=\\'dropdown-item\\'><a data-val=\\'journalTitleAbbr_t\\' href=\\'javascript:void(0);\\' onclick=\"LangInit(this, \\'qa\\');\">Journal: Abbreviated title</a></li><li class=\\'dropdown-item\\'><a data-val=\\'journalTitle_t\\' href=\\'javascript:void(0);\\' onclick=\"LangInit(this, \\'qa\\');\">Journal: Title</a></li><li class=\\'dropdown-item\\'><a data-val=\\'journalId_i\\' href=\\'javascript:void(0);\\' onclick=\"LangInit(this, \\'qa\\');\">Journal: Internal identifier</a></li><li class=\\'dropdown-item\\'><a data-val=\\'journalDate_s\\' href=\\'javascript:void(0);\\' onclick=\"LangInit(this, \\'qa\\');\">Journal: beginning publication date</a></li><li class=\\'dropdown-item\\'><a data-val=\\'journalEissn_s\\' href=\\'javascript:void(0);\\' onclick=\"LangInit(this, \\'qa\\');\">Journal: online ISSN</a></li><li class=\\'dropdown-item\\'><a data-val=\\'journalIssn_s\\' href=\\'javascript:void(0);\\' onclick=\"LangInit(this, \\'qa\\');\">Journal: ISSN</a></li><li class=\\'dropdown-item\\'><a data-val=\\'journalPublisher_s\\' href=\\'javascript:void(0);\\' onclick=\"LangInit(this, \\'qa\\');\">Journal: Publisher</a></li><li class=\\'dropdown-item\\'><a data-val=\\'journalSherpaColor_s\\' href=\\'javascript:void(0);\\' onclick=\"LangInit(this, \\'qa\\');\">Journal: SHERPA/RoMEO color</a></li><li class=\\'dropdown-item\\'><a data-val=\\'journalValid_s\\' href=\\'javascript:void(0);\\' onclick=\"LangInit(this, \\'qa\\');\">Journal: referential status</a></li><li class=\\'dropdown-item\\'><a data-val=\\'--sep2\\' href=\\'javascript:void(0);\\' onclick=\"LangInit(this, \\'qa\\');\"></a></li><li class=\\'dropdown-item\\'><a data-val=\\'conference_t\\' href=\\'javascript:void(0);\\' onclick=\"LangInit(this, \\'qa\\');\">Conference (multi-criteria)</a></li><li class=\\'dropdown-item\\'><a data-val=\\'conferenceTitle_t\\' href=\\'javascript:void(0);\\' onclick=\"LangInit(this, \\'qa\\');\">Conference: Title</a></li><li class=\\'dropdown-item\\'><a data-val=\\'conferenceOrganizer_t\\' href=\\'javascript:void(0);\\' onclick=\"LangInit(this, \\'qa\\');\">Conference: Organiser</a></li><li class=\\'dropdown-item\\'><a data-val=\\'conferenceStartDateY_i\\' href=\\'javascript:void(0);\\' onclick=\"LangInit(this, \\'qa\\');\">Conference: beginning date (Year)</a></li><li class=\\'dropdown-item\\'><a data-val=\\'conferenceEndDateY_i\\' href=\\'javascript:void(0);\\' onclick=\"LangInit(this, \\'qa\\');\">Conference: end date (Year)</a></li><li class=\\'dropdown-item\\'><a data-val=\\'invitedCommunication_t\\' href=\\'javascript:void(0);\\' onclick=\"LangInit(this, \\'qa\\');\">Invited communication (yes/no)</a></li><li class=\\'dropdown-item\\'><a data-val=\\'--sep3\\' href=\\'javascript:void(0);\\' onclick=\"LangInit(this, \\'qa\\');\"></a></li><li class=\\'dropdown-item\\'><a data-val=\\'anrProject_t\\' href=\\'javascript:void(0);\\' onclick=\"LangInit(this, \\'qa\\');\">ANR project (multi-criteria)</a></li><li class=\\'dropdown-item\\'><a data-val=\\'anrProjectAcronym_t\\' href=\\'javascript:void(0);\\' onclick=\"LangInit(this, \\'qa\\');\">ANR project: Acronym</a></li><li class=\\'dropdown-item\\'><a data-val=\\'anrProjectAcronymProgram_t\\' href=\\'javascript:void(0);\\' onclick=\"LangInit(this, \\'qa\\');\">hal_anrProjectAcronymProgram_t</a></li><li class=\\'dropdown-item\\'><a data-val=\\'anrProjectReference_t\\' href=\\'javascript:void(0);\\' onclick=\"LangInit(this, \\'qa\\');\">ANR project: Code decision (reference)</a></li><li class=\\'dropdown-item\\'><a data-val=\\'anrProjectTitle_t\\' href=\\'javascript:void(0);\\' onclick=\"LangInit(this, \\'qa\\');\">ANR project: Name</a></li><li class=\\'dropdown-item\\'><a data-val=\\'anrProjectId_i\\' href=\\'javascript:void(0);\\' onclick=\"LangInit(this, \\'qa\\');\">ANR project: Internal identifier</a></li><li class=\\'dropdown-item\\'><a data-val=\\'anrProjectValid_s\\' href=\\'javascript:void(0);\\' onclick=\"LangInit(this, \\'qa\\');\">ANR project: Referential Status</a></li><li class=\\'dropdown-item\\'><a data-val=\\'--sep4\\' href=\\'javascript:void(0);\\' onclick=\"LangInit(this, \\'qa\\');\"></a></li><li class=\\'dropdown-item\\'><a data-val=\\'europeanProject_t\\' href=\\'javascript:void(0);\\' onclick=\"LangInit(this, \\'qa\\');\">European project (multi-criteria)</a></li><li class=\\'dropdown-item\\'><a data-val=\\'europeanProjectAcronym_t\\' href=\\'javascript:void(0);\\' onclick=\"LangInit(this, \\'qa\\');\">European project: Acronym</a></li><li class=\\'dropdown-item\\'><a data-val=\\'europeanProjectCallId_t\\' href=\\'javascript:void(0);\\' onclick=\"LangInit(this, \\'qa\\');\">European project: Call identifier</a></li><li class=\\'dropdown-item\\'><a data-val=\\'europeanProjectReference_t\\' href=\\'javascript:void(0);\\' onclick=\"LangInit(this, \\'qa\\');\">European project: Reference</a></li><li class=\\'dropdown-item\\'><a data-val=\\'europeanProjectTitle_t\\' href=\\'javascript:void(0);\\' onclick=\"LangInit(this, \\'qa\\');\">European project: Name</a></li><li class=\\'dropdown-item\\'><a data-val=\\'europeanProjectEndDate_s\\' href=\\'javascript:void(0);\\' onclick=\"LangInit(this, \\'qa\\');\">European project: end date</a></li><li class=\\'dropdown-item\\'><a data-val=\\'europeanProjectFinancing_s\\' href=\\'javascript:void(0);\\' onclick=\"LangInit(this, \\'qa\\');\">European project: Funding</a></li><li class=\\'dropdown-item\\'><a data-val=\\'europeanProjectStartDate_s\\' href=\\'javascript:void(0);\\' onclick=\"LangInit(this, \\'qa\\');\">European project: beginning date</a></li><li class=\\'dropdown-item\\'><a data-val=\\'europeanProjectValid_s\\' href=\\'javascript:void(0);\\' onclick=\"LangInit(this, \\'qa\\');\">European project: Referential status</a></li><li class=\\'dropdown-item\\'><a data-val=\\'europeanProjectId_i\\' href=\\'javascript:void(0);\\' onclick=\"LangInit(this, \\'qa\\');\">European project: Internal identifier</a></li><li class=\\'dropdown-item\\'><a data-val=\\'--sep6\\' href=\\'javascript:void(0);\\' onclick=\"LangInit(this, \\'qa\\');\"></a></li><li class=\\'dropdown-item\\'><a data-val=\\'producedDateY_i\\' href=\\'javascript:void(0);\\' onclick=\"LangInit(this, \\'qa\\');\">Publication date: year</a></li><li class=\\'dropdown-item\\'><a data-val=\\'releasedDateY_i\\' href=\\'javascript:void(0);\\' onclick=\"LangInit(this, \\'qa\\');\">Release date: year</a></li><li class=\\'dropdown-item\\'><a data-val=\\'publicationDateY_i\\' href=\\'javascript:void(0);\\' onclick=\"LangInit(this, \\'qa\\');\">hal_publicationDateY_i</a></li><li class=\\'dropdown-item\\'><a data-val=\\'writingDateY_i\\' href=\\'javascript:void(0);\\' onclick=\"LangInit(this, \\'qa\\');\">Writing date: year</a></li><li class=\\'dropdown-item\\'><a data-val=\\'modifiedDateY_i\\' href=\\'javascript:void(0);\\' onclick=\"LangInit(this, \\'qa\\');\">Date modified: year</a></li><li class=\\'dropdown-item\\'><a data-val=\\'submittedDateY_i\\' href=\\'javascript:void(0);\\' onclick=\"LangInit(this, \\'qa\\');\">Submission Date: year</a></li><li class=\\'dropdown-item\\'><a data-val=\\'ePublicationDateY_i\\' href=\\'javascript:void(0);\\' onclick=\"LangInit(this, \\'qa\\');\">Online Publication date: year</a></li><li class=\\'dropdown-item\\'><a data-val=\\'--sep7\\' href=\\'javascript:void(0);\\' onclick=\"LangInit(this, \\'qa\\');\"></a></li><li class=\\'dropdown-item\\'><a data-val=\\'collection_t\\' href=\\'javascript:void(0);\\' onclick=\"LangInit(this, \\'qa\\');\">HAL Collection (multi-criteria)</a></li><li class=\\'dropdown-item\\'><a data-val=\\'collCategory_s\\' href=\\'javascript:void(0);\\' onclick=\"LangInit(this, \\'qa\\');\">HAL Collection: category</a></li><li class=\\'dropdown-item\\'><a data-val=\\'collCode_s\\' href=\\'javascript:void(0);\\' onclick=\"LangInit(this, \\'qa\\');\">HAL Collection: Code</a></li><li class=\\'dropdown-item\\'><a data-val=\\'collName_t\\' href=\\'javascript:void(0);\\' onclick=\"LangInit(this, \\'qa\\');\">HAL Collection: Name</a></li><li class=\\'dropdown-item\\'><a data-val=\\'collId_i\\' href=\\'javascript:void(0);\\' onclick=\"LangInit(this, \\'qa\\');\">HAL Collection: Internal identifier</a></li><li class=\\'dropdown-item\\'><a data-val=\\'--sep8\\' href=\\'javascript:void(0);\\' onclick=\"LangInit(this, \\'qa\\');\"></a></li><li class=\\'dropdown-item\\'><a data-val=\\'contributorId_i\\' href=\\'javascript:void(0);\\' onclick=\"LangInit(this, \\'qa\\');\">Contributor/author Internal identifier</a></li><li class=\\'dropdown-item\\'><a data-val=\\'contributorFullName_t\\' href=\\'javascript:void(0);\\' onclick=\"LangInit(this, \\'qa\\');\">Contributor/author Full name</a></li><li class=\\'dropdown-item\\'><a data-val=\\'--sep9\\' href=\\'javascript:void(0);\\' onclick=\"LangInit(this, \\'qa\\');\"></a></li><li class=\\'dropdown-item\\'><a data-val=\\'domain_t\\' href=\\'javascript:void(0);\\' onclick=\"LangInit(this, \\'qa\\');\">Domains</a></li><li class=\\'dropdown-item\\'><a data-val=\\'primaryDomain_s\\' href=\\'javascript:void(0);\\' onclick=\"LangInit(this, \\'qa\\');\">Primary domain</a></li><li class=\\'dropdown-item\\'><a data-val=\\'level0_domain_s\\' href=\\'javascript:void(0);\\' onclick=\"LangInit(this, \\'qa\\');\">Root domain</a></li><li class=\\'dropdown-item\\'><a data-val=\\'level1_domain_s\\' href=\\'javascript:void(0);\\' onclick=\"LangInit(this, \\'qa\\');\">Sub-domain level 1</a></li><li class=\\'dropdown-item\\'><a data-val=\\'level2_domain_s\\' href=\\'javascript:void(0);\\' onclick=\"LangInit(this, \\'qa\\');\">Sub-domain level 2</a></li><li class=\\'dropdown-item\\'><a data-val=\\'level3_domain_s\\' href=\\'javascript:void(0);\\' onclick=\"LangInit(this, \\'qa\\');\">Sub-domain level 3</a></li><li class=\\'dropdown-item\\'><a data-val=\\'--sep10\\' href=\\'javascript:void(0);\\' onclick=\"LangInit(this, \\'qa\\');\"></a></li><li class=\\'dropdown-item\\'><a data-val=\\'status_i\\' href=\\'javascript:void(0);\\' onclick=\"LangInit(this, \\'qa\\');\">Status of document</a></li><li class=\\'dropdown-item\\'><a data-val=\\'version_i\\' href=\\'javascript:void(0);\\' onclick=\"LangInit(this, \\'qa\\');\">Document version</a></li><li class=\\'dropdown-item\\'><a data-val=\\'submitType_s\\' href=\\'javascript:void(0);\\' onclick=\"LangInit(this, \\'qa\\');\">Submission type</a></li><li class=\\'dropdown-item\\'><a data-val=\\'docType_s\\' href=\\'javascript:void(0);\\' onclick=\"LangInit(this, \\'qa\\');\">Document type</a></li><li class=\\'dropdown-item\\'><a data-val=\\'isbn_id\\' href=\\'javascript:void(0);\\' onclick=\"LangInit(this, \\'qa\\');\">ISBN</a></li><li class=\\'dropdown-item\\'><a data-val=\\'number_id\\' href=\\'javascript:void(0);\\' onclick=\"LangInit(this, \\'qa\\');\">Number - reference</a></li><li class=\\'dropdown-item\\'><a data-val=\\'doiId_id\\' href=\\'javascript:void(0);\\' onclick=\"LangInit(this, \\'qa\\');\">Identifier: DOI</a></li><li class=\\'dropdown-item\\'><a data-val=\\'--sep11\\' href=\\'javascript:void(0);\\' onclick=\"LangInit(this, \\'qa\\');\"></a></li><li class=\\'dropdown-item\\'><a data-val=\\'classification_t\\' href=\\'javascript:void(0);\\' onclick=\"LangInit(this, \\'qa\\');\">Classification</a></li><li class=\\'dropdown-item\\'><a data-val=\\'audience_t\\' href=\\'javascript:void(0);\\' onclick=\"LangInit(this, \\'qa\\');\">Audience</a></li><li class=\\'dropdown-item\\'><a data-val=\\'popularLevel_t\\' href=\\'javascript:void(0);\\' onclick=\"LangInit(this, \\'qa\\');\">Vulgarization</a></li><li class=\\'dropdown-item\\'><a data-val=\\'peerReviewing_t\\' href=\\'javascript:void(0);\\' onclick=\"LangInit(this, \\'qa\\');\">Peer reviewing - text (yes or no)</a></li><li class=\\'dropdown-item\\'><a data-val=\\'proceedings_t\\' href=\\'javascript:void(0);\\' onclick=\"LangInit(this, \\'qa\\');\">Conference proceedings</a></li><li class=\\'dropdown-item\\'><a data-val=\\'localReference_t\\' href=\\'javascript:void(0);\\' onclick=\"LangInit(this, \\'qa\\');\">Internal reference</a></li><li class=\\'dropdown-item\\'><a data-val=\\'funding_t\\' href=\\'javascript:void(0);\\' onclick=\"LangInit(this, \\'qa\\');\">Funding</a></li><li class=\\'dropdown-item\\'><a data-val=\\'collaboration_t\\' href=\\'javascript:void(0);\\' onclick=\"LangInit(this, \\'qa\\');\">Collaborations</a></li></ul><input type=\"text\" name=\"qa[text][]\" id=\"qa\" value=\"\" lang=\"text\" class=\" form-control input-sm\" aria-describedby=\"qa-error\" style=\" \" data-keyword=\"1\" /><span class=\"input-group-btn\"><button type=\\'button\\' class=\\'btn btn-sm btn-primary form-btn-multi form-btn-add\\' onclick=\\'MultiTextSimpleLangKeywordAdd(this, \"qa\");\\' data-toggle=\\'tooltip\\' data-placement=\\'right\\' data-original-title=\\'Add\\'><i class=\\'icon icon-plus\\'></i> <span> Add</span></button></span></div></div></div><dt id=\"submit-label\">&#160;</dt><dd id=\"submit-element\"><button name=\"submit\" id=\"submit-button\" type=\"submit\" value=\" Lancer la recherche\" class=\"btn btn-lg btnSearch hal-visualize-button\" aria-describedby=\"submit-button-error\"> Lancer la recherche</button></dd></form>                        <div class=\"mt-3\">                <button class=\"tools-color btn-hide-show\" data-selectOne=\"#solrSearchHeader\" data-selectTwo=\"#advSearchHeader\">                    <span>recherche experte (SolR)</span>                </button>            </div>        </div>                <div id=\"solrSearchHeader\" class=\"hide\">            <h3> Recherche experte (SolR)</h3>            <form action=\"/search/index\" method=\"get\" id=\"searchHeaderSolr\" name=\"search-simple\" role=\"search\">                <textarea type=\"text\" name=\"q\" class=\"p-5\" autocomplete=\"off\" cols=\"150\" placeholder=\"Search document, author, keyword...\"                       value=\"\"></textarea>                <div>                    <button type=\"submit\" aria-label=\"Search\" class=\"hal-visualize-button\">                        <span class=\"icon-search\" aria-hidden=\"true\"></span>                        <span>Run the search</span>                    </button>                </div>            </form>            <div class=\"mt-3\">                <button class=\"tools-color btn-hide-show\" data-selectOne=\"#solrSearchHeader\" data-selectTwo=\"#advSearchHeader\">                    <span>Vers la recherche avancée</span>                </button>            </div>        </div>    </div></div>                    </li>                    <li id=\"ssheader-submit\" class=\"d-table btn-primary-orange\">                                                                                                                                                            <a href=\"/submit/index\" class=\"btn-hal hal-submit-button\">                    <span class=\"icon-add colo-white\" aria-hidden=\"true\"></span>                    <span> Upload </span>                </a>            </li>        </ul>    </nav>            <main>    <div id=\"skip-link\" tabindex=\"-1\"></div>    <div class=\"toast hide valid-bg toast-valid\" role=\"alert\" aria-live=\"assertive\" aria-atomic=\"true\">    <div class=\"toast-body\">        <div class=\"message\">            <span class=\"icon-valid\" aria-hidden=\"true\"></span>            <span class=\"flash-messages\">            </span>        </div>        <button type=\"button\" class=\"ml-2 mb-1 close\" data-dismiss=\"toast\" aria-label=\"Close\">            <span aria-hidden=\"true\">&times;</span>        </button>    </div></div><div class=\"toast hide warning-bg toast-warning\" role=\"alert\" aria-live=\"assertive\" aria-atomic=\"true\">    <div class=\"toast-body\">        <div class=\"message\">            <span class=\"icon-not_valid\" aria-hidden=\"true\"></span>            <span class=\"flash-messages\">            </span>        </div>        <button type=\"button\" class=\"ml-2 mb-1 close\" data-dismiss=\"toast\" aria-label=\"Close\">            <span aria-hidden=\"true\">&times;</span>        </button>    </div></div><div class=\"toast hide bgcolor-second toast-info\" role=\"alert\" aria-live=\"assertive\" aria-atomic=\"true\">    <div class=\"toast-body\">        <div class=\"message\">            <span class=\"flash-messages\">            </span>        </div>        <button type=\"button\" class=\"ml-2 mb-1 close\" data-dismiss=\"toast\" aria-label=\"Close\">            <span aria-hidden=\"true\">&times;</span>        </button>    </div></div><div class=\"toast hide bgcolor-second toast-loader\" role=\"alert\" aria-live=\"assertive\" aria-atomic=\"true\">    <div class=\"toast-body\">        <div class=\"message\">            <div class=\"spinner-border text-light\" role=\"status\">                <span class=\"sr-only\">Loading...</span>            </div>            <span class=\"flash-messages\">            </span>        </div>        <button type=\"button\" class=\"ml-2 mb-1 close\" data-dismiss=\"toast\" aria-label=\"Close\">            <span aria-hidden=\"true\">&times;</span>        </button>    </div></div>            <script type=\"text/javascript\">        $(document).ready(function() {                    });    </script>        <section class=\"section-corps row\">                    <span class=\"icon-not_valid round-icon warning-bg\" style=\"\"></span>            <section class=\"color-white strong warning-bg center-text\" style=\"width: 100%; padding: 15px;\">                Application error            </section>                            <br>                <div>            <a href=\"/\" class=\"hal-visualize-button\">Back to homepage</a>        </div>                                </section></main>    <footer>    <div class=\"custom-footer-outer row justify-content-center d-flex flex-wrap align-items-center\"><div class=\"col-sm-6 col-md-3 col-lg-2 text-center\"><a href=\"https://www.enseignementsup-recherche.gouv.fr/\" target=\"_blank\" rel=\"noopener\"><img style=\"height: 150px;\" src=\"/public/mesr.svg\" alt=\"Minist&egrave;re de l\\'enseignement sup&eacute;rieur et de la recherche\" /></a></div><div class=\"col-sm-6 col-md-3 col-lg-2 text-center\"><a href=\"https://www.cnrs.fr/\" target=\"_blank\" rel=\"noopener\"><img style=\"height: 80px;\" src=\"/public/cnrs.svg\" alt=\"CNRS\" /></a></div><div class=\"col-sm-6 col-md-3 col-lg-2 text-center\"><a href=\"https://www.inria.fr/\" target=\"_blank\" rel=\"noopener\"><img style=\"height: 40px;\" src=\"/public/inria.svg\" alt=\"Inria\" /></a></div><div class=\"col-sm-6 col-md-3 col-lg-2 text-center\"><a href=\"https://www.inrae.fr/\" target=\"_blank\" rel=\"noopener\"><img style=\"height: 30px;\" src=\"/public/inrae.svg\" alt=\"INRAE\" /></a></div></div>    <div class=\"row\" style=\"margin:0\">        <div class=\"col-sm-4 col-md-2\">            <p> Contact </p>            <ul>                <li>                                    <a href=\"//doc.archives-ouvertes.fr/support\" target=\"_blank\" rel=\"noopener\">Support</a>                                </li>            </ul>        </div>        <div class=\"col-sm-4 col-md-2\">            <p> Resources</p>            <ul>                <li> <a href=\"//doc.archives-ouvertes.fr/\" target=\"_blank\" > Documentation </a> </li>                <li> <a href=\"//doc.archives-ouvertes.fr/faq\" target=\"_blank\" > FAQ </a> </li>                <li> <a href=\"//api.archives-ouvertes.fr/docs\" target=\"_blank\" > API </a> </li>                <li> <a href=\"//api.archives-ouvertes.fr/docs/oai\" target=\"_blank\" > OAI-PMH </a> </li>                <li> <a href=\"//aurehal.archives-ouvertes.fr/\" target=\"_blank\" > AuréHAL </a> </li>            </ul>        </div>        <div class=\"col-sm-4 col-md-2\">            <p> Informations</p>            <ul>                <li> <a href=\"/view/privacy\"> Personal data and privacy </a> </li>                <li> <a href=\"/view/legalnotice\"> Legal notice </a> </li>                <li> <a href=\"/view/accessibilityHelp\"> Accessibility </a> </li>                <li> <a href=\"/view/conformiteRgaa\" > RGAA </a> </li>            </ul>        </div>        <div class=\"col-sm-4 col-md-2\">            <p> Legal issues </p>            <ul>                <li> <a href=\"https://www.ouvrirlascience.fr/je-publie-quels-sont-mes-droits/\" target=\"_blank\" > I publish, what are my rights? </a> </li>                <li> <a href=\"https://www.ouvrirlascience.fr/guide-application-loi-republique-numerique-article-30-ecrits-scientifiques-version-courte/\" target=\"_blank\" > The Digital Republic bill </a> </li>                <li> <a href=\"https://www.ouvrirlascience.fr/mettre-en-oeuvre-la-strategie-de-non-cession-des-droits-sur-les-publications-scientifiques/\" target=\"_blank\" > Non-assignment strategy of rights </a> </li>                <li> <a href=\"https://v2.sherpa.ac.uk/romeo/\" target=\"_blank\" > SHERPA/RoMEO </a> </li>            </ul>        </div>        <div class=\"col-sm-4 col-md-2\">            <p> Portals </p>            <ul>                <li><a href=\"https://hal.archives-ouvertes.fr/browse/portal\" target=\"_blank\"> Institutional portals </a></li>                <li><a href=\"//hal.archives-ouvertes.fr\" target=\"_blank\" >HAL</a></li>                <li><a href=\"//halshs.archives-ouvertes.fr\" target=\"_blank\" >HAL SHS</a></li>                <li><a href=\"//tel.archives-ouvertes.fr\" target=\"_blank\" >HAL Thèses</a></li>                <li><a href=\"//medihal.archives-ouvertes.fr\" target=\"_blank\" >MédiHAL</a></li>            </ul>        </div>        <div class=\"col-sm-4 col-md-2\">            <p> CCSD </p>            <ul>                <li> <a href=\"//www.ccsd.cnrs.fr/\" target=\"_blank\" > CCSD </a> </li>                <li> <a href=\"//www.episciences.org/\" target=\"_blank\" > Episciences </a> </li>                <li> <a href=\"//www.sciencesconf.org/\" target=\"_blank\" > Sciencesconf </a> </li>            </ul>        </div>    </div></footer></body></html>'"
      ]
     },
     "execution_count": 135,
     "metadata": {},
     "output_type": "execute_result"
    }
   ],
   "source": [
    "data=!curl -s 'https://hal.science/view/metadata' \\\n",
    "  -H 'Accept: */*' \\\n",
    "  -H 'Accept-Language: en-US,en;q=0.9,fa;q=0.8,fr;q=0.7' \\\n",
    "  -H 'Cache-Control: no-cache' \\\n",
    "  -H 'Connection: keep-alive' \\\n",
    "  -H 'Content-Type: application/x-www-form-urlencoded; charset=UTF-8' \\\n",
    "  -H 'Cookie: hal=6kmq6nfg7l4a13ceul5fbnvt6i; _pk_id.17.f264=76ab62e8b39629b3.1684695843.; _pk_id.92.f264=c187b61ccb7966a2.1684695843.; ai_user=2ni3/PWjj3XZlFvGznnEO0|2023-05-21T19:04:03.583Z; _pk_ses.17.f264=1; _pk_ses.92.f264=1' \\\n",
    "  -H 'DNT: 1' \\\n",
    "  -H 'Origin: https://hal.science' \\\n",
    "  -H 'Pragma: no-cache' \\\n",
    "  -H 'Referer: https://hal.science/hal-03300319v1' \\\n",
    "  -H 'Sec-Fetch-Dest: empty' \\\n",
    "  -H 'Sec-Fetch-Mode: cors' \\\n",
    "  -H 'Sec-Fetch-Site: same-origin' \\\n",
    "  -H 'User-Agent: Mozilla/5.0 (Windows NT 10.0; Win64; x64) AppleWebKit/537.36 (KHTML, like Gecko) Chrome/113.0.0.0 Safari/537.36 Edg/113.0.1774.42' \\\n",
    "  -H 'X-Requested-With: XMLHttpRequest' \\\n",
    "  -H 'sec-ch-ua: \"Microsoft Edge\";v=\"113\", \"Chromium\";v=\"113\", \"Not-A.Brand\";v=\"24\"' \\\n",
    "  -H 'sec-ch-ua-mobile: ?0' \\\n",
    "  -H 'sec-ch-ua-platform: \"Windows\"' \\\n",
    "  --data-raw 'docid=03824772' \\\n",
    "  --compressed\n",
    "\n",
    "\n",
    "data=''.join(data)\n",
    "data"
   ]
  },
  {
   "cell_type": "code",
   "execution_count": 137,
   "id": "f5322db9",
   "metadata": {},
   "outputs": [
    {
     "data": {
      "text/plain": [
       "'Machine Learning [cs.LG]'"
      ]
     },
     "execution_count": 137,
     "metadata": {},
     "output_type": "execute_result"
    }
   ],
   "source": []
  },
  {
   "cell_type": "code",
   "execution_count": 123,
   "id": "48f11b94",
   "metadata": {},
   "outputs": [
    {
     "name": "stdout",
     "output_type": "stream",
     "text": [
      "Computer Science [cs]/Artificial Intelligence [cs.AI]\n"
     ]
    }
   ],
   "source": [
    "\n",
    "# doc\n"
   ]
  },
  {
   "cell_type": "code",
   "execution_count": 157,
   "id": "0111e358",
   "metadata": {},
   "outputs": [
    {
     "name": "stdout",
     "output_type": "stream",
     "text": [
      "04062643\n",
      "---- Computer Vision and Pattern Recognition [cs.CV]\n",
      "03584929\n",
      "---- Artificial Intelligence [cs.AI]\n",
      "---- Computer Vision and Pattern Recognition [cs.CV]\n",
      "---- Machine Learning [cs.LG]\n",
      "---- Neural and Evolutionary Computing [cs.NE]\n",
      "---- Image Processing [eess.IV]\n",
      "---- Signal and Image Processing\n",
      "---- Instrumentation and Methods for Astrophysic [astro-ph.IM]\n",
      "---- Solar and Stellar Astrophysics [astro-ph.SR]\n",
      "03711971\n",
      "---- Astrophysics [astro-ph]\n",
      "03040990\n",
      "---- Artificial Intelligence [cs.AI]\n",
      "---- Computer Vision and Pattern Recognition [cs.CV]\n",
      "---- Machine Learning [cs.LG]\n",
      "---- Neural and Evolutionary Computing [cs.NE]\n",
      "---- Image Processing [eess.IV]\n",
      "---- Signal and Image Processing\n",
      "---- Instrumentation and Methods for Astrophysic [astro-ph.IM]\n",
      "---- Solar and Stellar Astrophysics [astro-ph.SR]\n",
      "03404405\n",
      "---- Artificial Intelligence [cs.AI]\n",
      "---- Computer Vision and Pattern Recognition [cs.CV]\n",
      "---- Machine Learning [cs.LG]\n",
      "---- Neural and Evolutionary Computing [cs.NE]\n",
      "---- Image Processing [eess.IV]\n",
      "---- Signal and Image Processing\n",
      "---- Instrumentation and Methods for Astrophysic [astro-ph.IM]\n",
      "---- Solar and Stellar Astrophysics [astro-ph.SR]\n",
      "02923001\n",
      "---- Artificial Intelligence [cs.AI]\n",
      "---- Computer Vision and Pattern Recognition [cs.CV]\n",
      "---- Machine Learning [cs.LG]\n",
      "---- Image Processing [eess.IV]\n",
      "---- Signal and Image Processing\n",
      "---- Instrumentation and Methods for Astrophysic [astro-ph.IM]\n",
      "---- Solar and Stellar Astrophysics [astro-ph.SR]\n",
      "02934456\n",
      "---- Artificial Intelligence [cs.AI]\n",
      "---- Computer Vision and Pattern Recognition [cs.CV]\n",
      "---- Machine Learning [cs.LG]\n",
      "---- Neural and Evolutionary Computing [cs.NE]\n",
      "---- Image Processing [eess.IV]\n",
      "---- Signal and Image Processing\n",
      "03730092\n",
      "---- Astrophysics [astro-ph]\n",
      "03724529\n",
      "---- Astrophysics [astro-ph]\n",
      "02171028\n",
      "---- Artificial Intelligence [cs.AI]\n",
      "---- Computer Vision and Pattern Recognition [cs.CV]\n",
      "---- Machine Learning [cs.LG]\n",
      "---- Neural and Evolutionary Computing [cs.NE]\n",
      "---- Image Processing [eess.IV]\n",
      "---- Signal and Image Processing\n",
      "02003387\n",
      "---- Artificial Intelligence [cs.AI]\n",
      "---- Machine Learning [cs.LG]\n",
      "---- Signal and Image Processing\n",
      "01878545\n",
      "---- Artificial Intelligence [cs.AI]\n",
      "---- Machine Learning [cs.LG]\n",
      "---- Neural and Evolutionary Computing [cs.NE]\n",
      "---- Computers and Society [cs.CY]\n",
      "---- Human-Computer Interaction [cs.HC]\n",
      "---- Information Retrieval [cs.IR]\n",
      "---- Document and Text Processing\n",
      "---- Law\n",
      "02549869\n",
      "---- Artificial Intelligence [cs.AI]\n",
      "---- Computer Vision and Pattern Recognition [cs.CV]\n",
      "---- Machine Learning [cs.LG]\n",
      "---- Signal and Image Processing\n",
      "02327532\n",
      "---- Artificial Intelligence [cs.AI]\n",
      "---- Machine Learning [cs.LG]\n",
      "---- Signal and Image Processing\n",
      "02327508\n",
      "---- Computer Vision and Pattern Recognition [cs.CV]\n",
      "---- Medical Imaging\n",
      "---- Image Processing [eess.IV]\n",
      "---- Signal and Image Processing\n",
      "02327523\n",
      "---- Computer Vision and Pattern Recognition [cs.CV]\n",
      "---- Medical Imaging\n",
      "---- Image Processing [eess.IV]\n",
      "---- Signal and Image Processing\n"
     ]
    }
   ],
   "source": [
    "# name='Sébastien'\n",
    "first='Adeline'\n",
    "lastn='PAIEMENT'\n",
    "name=f'{first} {lastn}'\n",
    "\n",
    "keywords={'hal':defaultdict(int)}\n",
    "# keywords['total']=30\n",
    "# url='https://hal.science/search/index/q/*/authIdHal_s/herve-glotin'\n",
    "# url='https://hal.science/search/index/?q=%2A&rows=30&authIdHal_s=herve-glotin&page=2'\n",
    "# url='https://hal.science/search/index/?qa%5BauthLastName_t%5D%5B%5D=MARXER&qa%5BauthFirstName_t%5D%5B%5D=Ricard&rows=30&sort=producedDate_tdate+desc&page=2'\n",
    "url=f'https://hal.science/search/index/?qa%5Btitle_t%5D%5B%5D=&qa%5BauthLastName_t%5D%5B%5D={lastn}&qa%5BauthFirstName_t%5D%5B%5D={first}&qa%5Bauth_t%5D%5B%5D=&qa%5Bstructure_t%5D%5B%5D=&qa%5Btext%5D%5B%5D=&submit=+Lancer+la+recherche&rows=30&sort=producedDate_tdate+desc'\n",
    "# doc=pq(url=f\"https://hal.science/search/index/?q=*&authFullName_s=S%C3%A9\"+name.replace(\" \",\"%20\"))\n",
    "doc=pq(url=url)\n",
    "for id in doc(\"body > main > section > section.col-12.col-sm-9 > table > tbody > tr .halId-results a strong\"):\n",
    "  halid=id.text.split(\"-\")[1].split(\"v\")[0]\n",
    "  print(halid)\n",
    "\n",
    "  data=!curl -s 'https://hal.science/view/metadata' \\\n",
    "  -H 'Accept: */*' \\\n",
    "  -H 'Accept-Language: en-US,en;q=0.9,fa;q=0.8,fr;q=0.7' \\\n",
    "  -H 'Cache-Control: no-cache' \\\n",
    "  -H 'Connection: keep-alive' \\\n",
    "  -H 'Content-Type: application/x-www-form-urlencoded; charset=UTF-8' \\\n",
    "  -H 'Cookie: hal=6kmq6nfg7l4a13ceul5fbnvt6i; _pk_id.17.f264=76ab62e8b39629b3.1684695843.; _pk_id.92.f264=c187b61ccb7966a2.1684695843.; ai_user=2ni3/PWjj3XZlFvGznnEO0|2023-05-21T19:04:03.583Z; _pk_ses.17.f264=1; _pk_ses.92.f264=1' \\\n",
    "  -H 'DNT: 1' \\\n",
    "  -H 'Origin: https://hal.science' \\\n",
    "  -H 'Pragma: no-cache' \\\n",
    "  -H 'Referer: https://hal.science/hal-03300319v1' \\\n",
    "  -H 'Sec-Fetch-Dest: empty' \\\n",
    "  -H 'Sec-Fetch-Mode: cors' \\\n",
    "  -H 'Sec-Fetch-Site: same-origin' \\\n",
    "  -H 'User-Agent: Mozilla/5.0 (Windows NT 10.0; Win64; x64) AppleWebKit/537.36 (KHTML, like Gecko) Chrome/113.0.0.0 Safari/537.36 Edg/113.0.1774.42' \\\n",
    "  -H 'X-Requested-With: XMLHttpRequest' \\\n",
    "  -H 'sec-ch-ua: \"Microsoft Edge\";v=\"113\", \"Chromium\";v=\"113\", \"Not-A.Brand\";v=\"24\"' \\\n",
    "  -H 'sec-ch-ua-mobile: ?0' \\\n",
    "  -H 'sec-ch-ua-platform: \"Windows\"' \\\n",
    "  --data-raw 'docid={halid}' \\\n",
    "  --compressed\n",
    "\n",
    "  \n",
    "  doc=pq(''.join(data))\n",
    "  keywords['hal']['total']+=1\n",
    "  # for domain in doc('.meta-domain strong'):\n",
    "    # print(domain.text)\n",
    "    # keywords['hal'][domain.text]+=1\n",
    "  doc=pq(url=f'https://hal.science/{id.text.strip()}?lang=en')\n",
    "  for domain in doc('.domains .hal-bgtext'):\n",
    "    print(\"----\",domain.text)\n",
    "    keywords['hal'][domain.text]+=1\n",
    "    \n",
    "with open('data/'+name+\".json\",'w') as fp:\n",
    "  json.dump(keywords,fp,indent=4)\n"
   ]
  },
  {
   "cell_type": "markdown",
   "id": "7a682a1b",
   "metadata": {},
   "source": [
    "# Search Person"
   ]
  },
  {
   "cell_type": "code",
   "execution_count": 90,
   "id": "5002d5de",
   "metadata": {},
   "outputs": [
    {
     "name": "stdout",
     "output_type": "stream",
     "text": [
      "Ricard Marxer (0000-0001-5099-5059) - ORCID | Connecting Research and Researchers\n",
      "displayName Ricard Marxer\n"
     ]
    }
   ],
   "source": [
    "orcid=\"0000-0001-5099-5059\"\n",
    "\n",
    "userinfo=requests.get(f\"https://orcid.org/{orcid}/public-record.json\").json()\n",
    "\n",
    "print(userinfo['title'])\n",
    "print('displayName',userinfo['displayName'])\n",
    "# html(f\"<a href='{userinfo['']}'\")\n",
    "# print(json.dumps(userinfo, indent=4))\n"
   ]
  },
  {
   "cell_type": "markdown",
   "id": "e8274995",
   "metadata": {},
   "source": [
    "# Get paper info from scopus"
   ]
  },
  {
   "cell_type": "code",
   "execution_count": 91,
   "id": "9e26b253",
   "metadata": {
    "ExecuteTime": {
     "end_time": "2022-05-22T15:45:36.467650Z",
     "start_time": "2022-05-22T15:45:36.465870Z"
    }
   },
   "outputs": [
    {
     "name": "stdout",
     "output_type": "stream",
     "text": [
      "\"http://www.scopus.com/inward/record.url?eid=2-s2.0-85049250746&partnerID=MN8TOARS\",\n",
      "\"http://www.scopus.com/inward/record.url?eid=2-s2.0-85046811694&partnerID=MN8TOARS\",\n",
      "\"http://www.scopus.com/inward/record.url?eid=2-s2.0-85009170959&partnerID=MN8TOARS\",\n",
      "\"http://www.scopus.com/inward/record.url?eid=2-s2.0-85018685142&partnerID=MN8TOARS\",\n",
      "\"http://www.scopus.com/inward/record.url?eid=2-s2.0-85028884167&partnerID=MN8TOARS\",\n",
      "\"http://www.scopus.com/inward/record.url?eid=2-s2.0-85039148982&partnerID=MN8TOARS\",\n",
      "\"http://www.scopus.com/inward/record.url?eid=2-s2.0-85015337754&partnerID=MN8TOARS\",\n",
      "\"http://www.scopus.com/inward/record.url?eid=2-s2.0-85008625955&partnerID=MN8TOARS\",\n",
      "\"http://www.scopus.com/inward/record.url?eid=2-s2.0-84997282854&partnerID=MN8TOARS\",\n",
      "\"http://www.scopus.com/inward/record.url?eid=2-s2.0-84994300374&partnerID=MN8TOARS\",\n",
      "\"http://www.scopus.com/inward/record.url?eid=2-s2.0-84964553243&partnerID=MN8TOARS\",\n",
      "\"http://www.scopus.com/inward/record.url?eid=2-s2.0-84994384371&partnerID=MN8TOARS\",\n",
      "\"http://www.scopus.com/inward/record.url?eid=2-s2.0-84994213358&partnerID=MN8TOARS\",\n",
      "\"http://www.scopus.com/inward/record.url?eid=2-s2.0-84964452021&partnerID=MN8TOARS\",\n",
      "\"http://www.scopus.com/inward/record.url?eid=2-s2.0-84959167876&partnerID=MN8TOARS\",\n",
      "\"http://www.scopus.com/inward/record.url?eid=2-s2.0-84988391769&partnerID=MN8TOARS\",\n",
      "\"http://www.scopus.com/inward/record.url?eid=2-s2.0-84893285021&partnerID=MN8TOARS\",\n",
      "\"http://www.scopus.com/inward/record.url?eid=2-s2.0-85026607745&partnerID=MN8TOARS\",\n",
      "\"http://www.scopus.com/inward/record.url?eid=2-s2.0-85026613299&partnerID=MN8TOARS\",\n",
      "\"http://www.scopus.com/inward/record.url?eid=2-s2.0-84944689308&partnerID=MN8TOARS\",\n",
      "\"http://www.scopus.com/inward/record.url?eid=2-s2.0-84867596066&partnerID=MN8TOARS\",\n",
      "\"http://www.scopus.com/inward/record.url?eid=2-s2.0-84867612305&partnerID=MN8TOARS\",\n",
      "\"http://www.scopus.com/inward/record.url?eid=2-s2.0-84857275037&partnerID=MN8TOARS\",\n",
      "\"http://www.scopus.com/inward/record.url?eid=2-s2.0-84869761639&partnerID=MN8TOARS\",\n"
     ]
    }
   ],
   "source": [
    "user_keywords={}\n",
    "worksExtendedPage=requests.get(f\"https://orcid.org/{orcid}/worksExtendedPage.json?offset=0&sort=date&sortAsc=false&pageSize=1000\").json()\n",
    "for group in worksExtendedPage['groups']:\n",
    "    putcode=group['activePutCode']\n",
    "    scopusid=''\n",
    "    for eid in group['externalIdentifiers']:\n",
    "        # print(json.dumps(eid, indent=4))\n",
    "        if (eid['externalIdentifierType']['value']=='eid'):\n",
    "            scopusid=eid['externalIdentifierId']['value']\n",
    "            # print('scopusid',scopusid)\n",
    "    # for work in group['works']:\n",
    "        # print(putcode,scopusid,work['title']['value'])\n",
    "\n",
    "    if scopusid:    \n",
    "        print(f'\"http://www.scopus.com/inward/record.url?eid={scopusid}&partnerID=MN8TOARS\",')\n",
    "    \n",
    "    # for key in doc(\"#authorKeywords span\"):\n",
    "\n"
   ]
  },
  {
   "cell_type": "code",
   "execution_count": 92,
   "id": "981a1890",
   "metadata": {},
   "outputs": [
    {
     "name": "stdout",
     "output_type": "stream",
     "text": [
      " * Serving Flask app '__main__'\n",
      " * Debug mode: off\n"
     ]
    },
    {
     "name": "stderr",
     "output_type": "stream",
     "text": [
      "\u001b[31m\u001b[1mWARNING: This is a development server. Do not use it in a production deployment. Use a production WSGI server instead.\u001b[0m\n",
      " * Running on http://127.0.0.1:5000\n",
      "\u001b[33mPress CTRL+C to quit\u001b[0m\n",
      "127.0.0.1 - - [21/May/2023 22:08:19] \"POST /save_content HTTP/1.1\" 200 -\n"
     ]
    },
    {
     "name": "stdout",
     "output_type": "stream",
     "text": [
      "rawdata/0000-0001-5099-5059-Ricard Marxer 2-s2.0-85049250746 http://www.scopus.com/inward/record.url?eid=2-s2.0-85049250746&partnerID=MN8TOARS\n"
     ]
    },
    {
     "name": "stderr",
     "output_type": "stream",
     "text": [
      "127.0.0.1 - - [21/May/2023 22:08:22] \"POST /save_content HTTP/1.1\" 200 -\n"
     ]
    },
    {
     "name": "stdout",
     "output_type": "stream",
     "text": [
      "rawdata/0000-0001-5099-5059-Ricard Marxer 2-s2.0-85046811694 http://www.scopus.com/inward/record.url?eid=2-s2.0-85046811694&partnerID=MN8TOARS\n"
     ]
    },
    {
     "name": "stderr",
     "output_type": "stream",
     "text": [
      "127.0.0.1 - - [21/May/2023 22:08:25] \"POST /save_content HTTP/1.1\" 200 -\n"
     ]
    },
    {
     "name": "stdout",
     "output_type": "stream",
     "text": [
      "rawdata/0000-0001-5099-5059-Ricard Marxer 2-s2.0-85009170959 http://www.scopus.com/inward/record.url?eid=2-s2.0-85009170959&partnerID=MN8TOARS\n"
     ]
    },
    {
     "name": "stderr",
     "output_type": "stream",
     "text": [
      "127.0.0.1 - - [21/May/2023 22:08:28] \"POST /save_content HTTP/1.1\" 200 -\n"
     ]
    },
    {
     "name": "stdout",
     "output_type": "stream",
     "text": [
      "rawdata/0000-0001-5099-5059-Ricard Marxer 2-s2.0-85018685142 http://www.scopus.com/inward/record.url?eid=2-s2.0-85018685142&partnerID=MN8TOARS\n"
     ]
    },
    {
     "name": "stderr",
     "output_type": "stream",
     "text": [
      "127.0.0.1 - - [21/May/2023 22:08:31] \"POST /save_content HTTP/1.1\" 200 -\n"
     ]
    },
    {
     "name": "stdout",
     "output_type": "stream",
     "text": [
      "rawdata/0000-0001-5099-5059-Ricard Marxer 2-s2.0-85028884167 http://www.scopus.com/inward/record.url?eid=2-s2.0-85028884167&partnerID=MN8TOARS\n"
     ]
    },
    {
     "name": "stderr",
     "output_type": "stream",
     "text": [
      "127.0.0.1 - - [21/May/2023 22:08:34] \"POST /save_content HTTP/1.1\" 200 -\n"
     ]
    },
    {
     "name": "stdout",
     "output_type": "stream",
     "text": [
      "rawdata/0000-0001-5099-5059-Ricard Marxer 2-s2.0-85039148982 http://www.scopus.com/inward/record.url?eid=2-s2.0-85039148982&partnerID=MN8TOARS\n"
     ]
    },
    {
     "name": "stderr",
     "output_type": "stream",
     "text": [
      "127.0.0.1 - - [21/May/2023 22:08:37] \"POST /save_content HTTP/1.1\" 200 -\n"
     ]
    },
    {
     "name": "stdout",
     "output_type": "stream",
     "text": [
      "rawdata/0000-0001-5099-5059-Ricard Marxer 2-s2.0-85015337754 http://www.scopus.com/inward/record.url?eid=2-s2.0-85015337754&partnerID=MN8TOARS\n"
     ]
    },
    {
     "name": "stderr",
     "output_type": "stream",
     "text": [
      "127.0.0.1 - - [21/May/2023 22:08:40] \"POST /save_content HTTP/1.1\" 200 -\n"
     ]
    },
    {
     "name": "stdout",
     "output_type": "stream",
     "text": [
      "rawdata/0000-0001-5099-5059-Ricard Marxer 2-s2.0-85008625955 http://www.scopus.com/inward/record.url?eid=2-s2.0-85008625955&partnerID=MN8TOARS\n"
     ]
    },
    {
     "name": "stderr",
     "output_type": "stream",
     "text": [
      "127.0.0.1 - - [21/May/2023 22:08:43] \"POST /save_content HTTP/1.1\" 200 -\n"
     ]
    },
    {
     "name": "stdout",
     "output_type": "stream",
     "text": [
      "rawdata/0000-0001-5099-5059-Ricard Marxer 2-s2.0-84997282854 http://www.scopus.com/inward/record.url?eid=2-s2.0-84997282854&partnerID=MN8TOARS\n"
     ]
    },
    {
     "name": "stderr",
     "output_type": "stream",
     "text": [
      "127.0.0.1 - - [21/May/2023 22:08:46] \"POST /save_content HTTP/1.1\" 200 -\n"
     ]
    },
    {
     "name": "stdout",
     "output_type": "stream",
     "text": [
      "rawdata/0000-0001-5099-5059-Ricard Marxer 2-s2.0-84994300374 http://www.scopus.com/inward/record.url?eid=2-s2.0-84994300374&partnerID=MN8TOARS\n"
     ]
    },
    {
     "name": "stderr",
     "output_type": "stream",
     "text": [
      "127.0.0.1 - - [21/May/2023 22:08:49] \"POST /save_content HTTP/1.1\" 200 -\n"
     ]
    },
    {
     "name": "stdout",
     "output_type": "stream",
     "text": [
      "rawdata/0000-0001-5099-5059-Ricard Marxer 2-s2.0-84964553243 http://www.scopus.com/inward/record.url?eid=2-s2.0-84964553243&partnerID=MN8TOARS\n"
     ]
    },
    {
     "name": "stderr",
     "output_type": "stream",
     "text": [
      "127.0.0.1 - - [21/May/2023 22:08:52] \"POST /save_content HTTP/1.1\" 200 -\n"
     ]
    },
    {
     "name": "stdout",
     "output_type": "stream",
     "text": [
      "rawdata/0000-0001-5099-5059-Ricard Marxer 2-s2.0-84994384371 http://www.scopus.com/inward/record.url?eid=2-s2.0-84994384371&partnerID=MN8TOARS\n"
     ]
    },
    {
     "name": "stderr",
     "output_type": "stream",
     "text": [
      "127.0.0.1 - - [21/May/2023 22:08:55] \"POST /save_content HTTP/1.1\" 200 -\n"
     ]
    },
    {
     "name": "stdout",
     "output_type": "stream",
     "text": [
      "rawdata/0000-0001-5099-5059-Ricard Marxer 2-s2.0-84994213358 http://www.scopus.com/inward/record.url?eid=2-s2.0-84994213358&partnerID=MN8TOARS\n"
     ]
    },
    {
     "name": "stderr",
     "output_type": "stream",
     "text": [
      "127.0.0.1 - - [21/May/2023 22:08:58] \"POST /save_content HTTP/1.1\" 200 -\n"
     ]
    },
    {
     "name": "stdout",
     "output_type": "stream",
     "text": [
      "rawdata/0000-0001-5099-5059-Ricard Marxer 2-s2.0-84964452021 http://www.scopus.com/inward/record.url?eid=2-s2.0-84964452021&partnerID=MN8TOARS\n"
     ]
    },
    {
     "name": "stderr",
     "output_type": "stream",
     "text": [
      "127.0.0.1 - - [21/May/2023 22:09:01] \"POST /save_content HTTP/1.1\" 200 -\n"
     ]
    },
    {
     "name": "stdout",
     "output_type": "stream",
     "text": [
      "rawdata/0000-0001-5099-5059-Ricard Marxer 2-s2.0-84959167876 http://www.scopus.com/inward/record.url?eid=2-s2.0-84959167876&partnerID=MN8TOARS\n"
     ]
    },
    {
     "name": "stderr",
     "output_type": "stream",
     "text": [
      "127.0.0.1 - - [21/May/2023 22:09:04] \"POST /save_content HTTP/1.1\" 200 -\n"
     ]
    },
    {
     "name": "stdout",
     "output_type": "stream",
     "text": [
      "rawdata/0000-0001-5099-5059-Ricard Marxer 2-s2.0-84988391769 http://www.scopus.com/inward/record.url?eid=2-s2.0-84988391769&partnerID=MN8TOARS\n"
     ]
    },
    {
     "name": "stderr",
     "output_type": "stream",
     "text": [
      "127.0.0.1 - - [21/May/2023 22:09:07] \"POST /save_content HTTP/1.1\" 200 -\n"
     ]
    },
    {
     "name": "stdout",
     "output_type": "stream",
     "text": [
      "rawdata/0000-0001-5099-5059-Ricard Marxer 2-s2.0-84893285021 http://www.scopus.com/inward/record.url?eid=2-s2.0-84893285021&partnerID=MN8TOARS\n"
     ]
    },
    {
     "name": "stderr",
     "output_type": "stream",
     "text": [
      "127.0.0.1 - - [21/May/2023 22:09:10] \"POST /save_content HTTP/1.1\" 200 -\n"
     ]
    },
    {
     "name": "stdout",
     "output_type": "stream",
     "text": [
      "rawdata/0000-0001-5099-5059-Ricard Marxer 2-s2.0-85026607745 http://www.scopus.com/inward/record.url?eid=2-s2.0-85026607745&partnerID=MN8TOARS\n"
     ]
    },
    {
     "name": "stderr",
     "output_type": "stream",
     "text": [
      "127.0.0.1 - - [21/May/2023 22:09:13] \"POST /save_content HTTP/1.1\" 200 -\n"
     ]
    },
    {
     "name": "stdout",
     "output_type": "stream",
     "text": [
      "rawdata/0000-0001-5099-5059-Ricard Marxer 2-s2.0-85026613299 http://www.scopus.com/inward/record.url?eid=2-s2.0-85026613299&partnerID=MN8TOARS\n"
     ]
    },
    {
     "name": "stderr",
     "output_type": "stream",
     "text": [
      "127.0.0.1 - - [21/May/2023 22:09:16] \"POST /save_content HTTP/1.1\" 200 -\n"
     ]
    },
    {
     "name": "stdout",
     "output_type": "stream",
     "text": [
      "rawdata/0000-0001-5099-5059-Ricard Marxer 2-s2.0-84944689308 http://www.scopus.com/inward/record.url?eid=2-s2.0-84944689308&partnerID=MN8TOARS\n"
     ]
    },
    {
     "name": "stderr",
     "output_type": "stream",
     "text": [
      "127.0.0.1 - - [21/May/2023 22:09:19] \"POST /save_content HTTP/1.1\" 200 -\n"
     ]
    },
    {
     "name": "stdout",
     "output_type": "stream",
     "text": [
      "rawdata/0000-0001-5099-5059-Ricard Marxer 2-s2.0-84867596066 http://www.scopus.com/inward/record.url?eid=2-s2.0-84867596066&partnerID=MN8TOARS\n"
     ]
    },
    {
     "name": "stderr",
     "output_type": "stream",
     "text": [
      "127.0.0.1 - - [21/May/2023 22:09:22] \"POST /save_content HTTP/1.1\" 200 -\n"
     ]
    },
    {
     "name": "stdout",
     "output_type": "stream",
     "text": [
      "rawdata/0000-0001-5099-5059-Ricard Marxer 2-s2.0-84867612305 http://www.scopus.com/inward/record.url?eid=2-s2.0-84867612305&partnerID=MN8TOARS\n"
     ]
    },
    {
     "name": "stderr",
     "output_type": "stream",
     "text": [
      "127.0.0.1 - - [21/May/2023 22:09:25] \"POST /save_content HTTP/1.1\" 200 -\n"
     ]
    },
    {
     "name": "stdout",
     "output_type": "stream",
     "text": [
      "rawdata/0000-0001-5099-5059-Ricard Marxer 2-s2.0-84857275037 http://www.scopus.com/inward/record.url?eid=2-s2.0-84857275037&partnerID=MN8TOARS\n"
     ]
    },
    {
     "name": "stderr",
     "output_type": "stream",
     "text": [
      "127.0.0.1 - - [21/May/2023 22:09:28] \"POST /save_content HTTP/1.1\" 200 -\n"
     ]
    },
    {
     "name": "stdout",
     "output_type": "stream",
     "text": [
      "rawdata/0000-0001-5099-5059-Ricard Marxer 2-s2.0-84869761639 http://www.scopus.com/inward/record.url?eid=2-s2.0-84869761639&partnerID=MN8TOARS\n"
     ]
    },
    {
     "name": "stderr",
     "output_type": "stream",
     "text": [
      "127.0.0.1 - - [21/May/2023 22:10:42] \"POST /save_content HTTP/1.1\" 200 -\n"
     ]
    },
    {
     "name": "stdout",
     "output_type": "stream",
     "text": [
      "rawdata/0000-0001-5114-1514-Adeline Paiement 2-s2.0-85020055322 http://www.scopus.com/inward/record.url?eid=2-s2.0-85020055322&partnerID=MN8TOARS\n"
     ]
    },
    {
     "name": "stderr",
     "output_type": "stream",
     "text": [
      "127.0.0.1 - - [21/May/2023 22:10:44] \"POST /save_content HTTP/1.1\" 200 -\n"
     ]
    },
    {
     "name": "stdout",
     "output_type": "stream",
     "text": [
      "rawdata/0000-0001-5114-1514-Adeline Paiement 2-s2.0-85027854712 http://www.scopus.com/inward/record.url?eid=2-s2.0-85027854712&partnerID=MN8TOARS\n"
     ]
    },
    {
     "name": "stderr",
     "output_type": "stream",
     "text": [
      "127.0.0.1 - - [21/May/2023 22:10:47] \"POST /save_content HTTP/1.1\" 200 -\n"
     ]
    },
    {
     "name": "stdout",
     "output_type": "stream",
     "text": [
      "rawdata/0000-0001-5114-1514-Adeline Paiement 2-s2.0-85020030552 http://www.scopus.com/inward/record.url?eid=2-s2.0-85020030552&partnerID=MN8TOARS\n"
     ]
    },
    {
     "name": "stderr",
     "output_type": "stream",
     "text": [
      "127.0.0.1 - - [21/May/2023 22:10:50] \"POST /save_content HTTP/1.1\" 200 -\n"
     ]
    },
    {
     "name": "stdout",
     "output_type": "stream",
     "text": [
      "rawdata/0000-0001-5114-1514-Adeline Paiement 2-s2.0-84966534363 http://www.scopus.com/inward/record.url?eid=2-s2.0-84966534363&partnerID=MN8TOARS\n"
     ]
    },
    {
     "name": "stderr",
     "output_type": "stream",
     "text": [
      "127.0.0.1 - - [21/May/2023 22:10:53] \"POST /save_content HTTP/1.1\" 200 -\n"
     ]
    },
    {
     "name": "stdout",
     "output_type": "stream",
     "text": [
      "rawdata/0000-0001-5114-1514-Adeline Paiement 2-s2.0-84971301645 http://www.scopus.com/inward/record.url?eid=2-s2.0-84971301645&partnerID=MN8TOARS\n"
     ]
    },
    {
     "name": "stderr",
     "output_type": "stream",
     "text": [
      "127.0.0.1 - - [21/May/2023 22:10:56] \"POST /save_content HTTP/1.1\" 200 -\n"
     ]
    },
    {
     "name": "stdout",
     "output_type": "stream",
     "text": [
      "rawdata/0000-0001-5114-1514-Adeline Paiement 2-s2.0-85007453610 http://www.scopus.com/inward/record.url?eid=2-s2.0-85007453610&partnerID=MN8TOARS\n"
     ]
    },
    {
     "name": "stderr",
     "output_type": "stream",
     "text": [
      "127.0.0.1 - - [21/May/2023 22:10:59] \"POST /save_content HTTP/1.1\" 200 -\n"
     ]
    },
    {
     "name": "stdout",
     "output_type": "stream",
     "text": [
      "rawdata/0000-0001-5114-1514-Adeline Paiement 2-s2.0-85007495043 http://www.scopus.com/inward/record.url?eid=2-s2.0-85007495043&partnerID=MN8TOARS\n"
     ]
    },
    {
     "name": "stderr",
     "output_type": "stream",
     "text": [
      "127.0.0.1 - - [21/May/2023 22:11:02] \"POST /save_content HTTP/1.1\" 200 -\n"
     ]
    },
    {
     "name": "stdout",
     "output_type": "stream",
     "text": [
      "rawdata/0000-0001-5114-1514-Adeline Paiement 2-s2.0-85007441123 http://www.scopus.com/inward/record.url?eid=2-s2.0-85007441123&partnerID=MN8TOARS\n"
     ]
    },
    {
     "name": "stderr",
     "output_type": "stream",
     "text": [
      "127.0.0.1 - - [21/May/2023 22:11:05] \"POST /save_content HTTP/1.1\" 200 -\n"
     ]
    },
    {
     "name": "stdout",
     "output_type": "stream",
     "text": [
      "rawdata/0000-0001-5114-1514-Adeline Paiement 2-s2.0-84984871109 http://www.scopus.com/inward/record.url?eid=2-s2.0-84984871109&partnerID=MN8TOARS\n"
     ]
    },
    {
     "name": "stderr",
     "output_type": "stream",
     "text": [
      "127.0.0.1 - - [21/May/2023 22:11:08] \"POST /save_content HTTP/1.1\" 200 -\n"
     ]
    },
    {
     "name": "stdout",
     "output_type": "stream",
     "text": [
      "rawdata/0000-0001-5114-1514-Adeline Paiement 2-s2.0-84947758787 http://www.scopus.com/inward/record.url?eid=2-s2.0-84947758787&partnerID=MN8TOARS\n"
     ]
    },
    {
     "name": "stderr",
     "output_type": "stream",
     "text": [
      "127.0.0.1 - - [21/May/2023 22:11:11] \"POST /save_content HTTP/1.1\" 200 -\n"
     ]
    },
    {
     "name": "stdout",
     "output_type": "stream",
     "text": [
      "rawdata/0000-0001-5114-1514-Adeline Paiement 2-s2.0-84958151967 http://www.scopus.com/inward/record.url?eid=2-s2.0-84958151967&partnerID=MN8TOARS\n"
     ]
    },
    {
     "name": "stderr",
     "output_type": "stream",
     "text": [
      "127.0.0.1 - - [21/May/2023 22:11:14] \"POST /save_content HTTP/1.1\" 200 -\n"
     ]
    },
    {
     "name": "stdout",
     "output_type": "stream",
     "text": [
      "rawdata/0000-0001-5114-1514-Adeline Paiement 2-s2.0-84961999157 http://www.scopus.com/inward/record.url?eid=2-s2.0-84961999157&partnerID=MN8TOARS\n"
     ]
    },
    {
     "name": "stderr",
     "output_type": "stream",
     "text": [
      "127.0.0.1 - - [21/May/2023 22:11:17] \"POST /save_content HTTP/1.1\" 200 -\n"
     ]
    },
    {
     "name": "stdout",
     "output_type": "stream",
     "text": [
      "rawdata/0000-0001-5114-1514-Adeline Paiement 2-s2.0-84888271134 http://www.scopus.com/inward/record.url?eid=2-s2.0-84888271134&partnerID=MN8TOARS\n"
     ]
    },
    {
     "name": "stderr",
     "output_type": "stream",
     "text": [
      "127.0.0.1 - - [21/May/2023 22:11:20] \"POST /save_content HTTP/1.1\" 200 -\n"
     ]
    },
    {
     "name": "stdout",
     "output_type": "stream",
     "text": [
      "rawdata/0000-0001-5114-1514-Adeline Paiement 2-s2.0-84919754619 http://www.scopus.com/inward/record.url?eid=2-s2.0-84919754619&partnerID=MN8TOARS\n"
     ]
    },
    {
     "name": "stderr",
     "output_type": "stream",
     "text": [
      "127.0.0.1 - - [21/May/2023 22:11:23] \"POST /save_content HTTP/1.1\" 200 -\n"
     ]
    },
    {
     "name": "stdout",
     "output_type": "stream",
     "text": [
      "rawdata/0000-0001-5114-1514-Adeline Paiement 2-s2.0-38349081045 http://www.scopus.com/inward/record.url?eid=2-s2.0-38349081045&partnerID=MN8TOARS\n"
     ]
    },
    {
     "name": "stderr",
     "output_type": "stream",
     "text": [
      "127.0.0.1 - - [21/May/2023 22:11:26] \"POST /save_content HTTP/1.1\" 200 -\n"
     ]
    },
    {
     "name": "stdout",
     "output_type": "stream",
     "text": [
      "rawdata/0000-0001-5114-1514-Adeline Paiement 2-s2.0-43949093465 http://www.scopus.com/inward/record.url?eid=2-s2.0-43949093465&partnerID=MN8TOARS\n"
     ]
    }
   ],
   "source": [
    "from flask import Flask, request\n",
    "import os\n",
    "app = Flask(__name__)\n",
    "\n",
    "@app.route('/save_content', methods=['POST'])\n",
    "def save_content():\n",
    "    content = request.json.get('content')\n",
    "    orig = request.json.get('orig')\n",
    "    scopusid =request.json.get('scopusid')\n",
    "    orcid = request.json.get('orcid')\n",
    "    \n",
    "    userinfo=requests.get(f\"https://orcid.org/{orcid}/public-record.json\").json()\n",
    "    rawfolder=\"rawdata/\"+orcid+\"-\"+userinfo['displayName']\n",
    "    \n",
    "    # print(userinfo['title'])\n",
    "    # print('displayName',userinfo['displayName'])\n",
    "    os.makedirs(rawfolder,exist_ok = True)\n",
    "    \n",
    "    print(rawfolder,scopusid,orig)\n",
    "    \n",
    "    with open(f'{rawfolder}/{scopusid}.html', 'w') as file:\n",
    "        file.write(content)\n",
    "    \n",
    "    # # doc=pq(filename='data/0000-0002-1778-6527-Aomar OSMANI/2-s2.0-85106192793.html')\n",
    "    # doc=pq(content)\n",
    "    # info\n",
    "    # for key in doc(\"#authorKeywords span\"):\n",
    "    #     print(key.text)\n",
    "    # for key in doc(\"#indexedKeywords span\"):\n",
    "    #     print(key.text)\n",
    "    # doc(\"#authorKeywords\")\n",
    "    return 'Content saved successfully!'\n",
    "\n",
    "if __name__ == '__main__':\n",
    "    app.run()\n"
   ]
  },
  {
   "cell_type": "code",
   "execution_count": 158,
   "id": "d1466d89",
   "metadata": {},
   "outputs": [
    {
     "name": "stdout",
     "output_type": "stream",
     "text": [
      "Quality of services (QoS)\n",
      "reinforcement learning (RL)\n",
      "services composition\n",
      "web of things (WoT)\n",
      "Dynamic programming\n",
      "Large dataset\n",
      "Reinforcement learning\n",
      "Web services\n",
      "Composite services\n",
      "Important features\n",
      "Optimal composition\n",
      "Research problems\n",
      "Services composition\n",
      "Theoretical points\n",
      "Unpredictable environments\n",
      "User's preferences\n",
      "Quality of service\n",
      "'NoneType' object has no attribute 'xpath'\n",
      "human activity recognition\n",
      "multi-view learning\n",
      "neural architecture search\n",
      "SHL challenge\n",
      "Network architecture\n",
      "Telephone sets\n",
      "Wearable computers\n",
      "Activity learning\n",
      "General architectures\n",
      "Multi-views\n",
      "Second group\n",
      "Transportation mode\n",
      "User independents\n",
      "Ubiquitous computing\n",
      "Ambient intelligence\n",
      "Automated recognition\n",
      "Dataset generation\n",
      "Feature selection\n",
      "Infant cry\n",
      "Machine learning\n",
      "Ambient intelligence\n",
      "Artificial intelligence\n",
      "Feature extraction\n",
      "Automated recognition\n",
      "Automatic recognition\n",
      "Dataset generation\n",
      "Features selection\n",
      "High-level features\n",
      "Infant cry\n",
      "Machine learning approaches\n",
      "Real world setting\n",
      "Learning systems\n",
      "Artificial intelligence\n",
      "Data warehouses\n",
      "Decision support systems\n",
      "Inductive logic programming (ILP)\n",
      "Learning systems\n",
      "Metadata\n",
      "Dependent-concept learning\n",
      "Experimental evaluation\n",
      "Inductive logic\n",
      "Machine learning techniques\n",
      "Model-driven data warehouse\n",
      "Model-driven Engineering\n",
      "Transformation designs\n",
      "Transformation rules\n",
      "Education\n",
      "Deep learning\n",
      "Domain models\n",
      "Human activity recognition\n",
      "Neural architecture search\n",
      "Economic and social effects\n",
      "Wearable sensors\n",
      "Additional knowledge\n",
      "Empirical evaluations\n",
      "Information sources\n",
      "Learning process\n",
      "Monitoring continuously\n",
      "Multisensory information\n",
      "Sensor deployment\n",
      "Sensors deployments\n",
      "Data integration\n",
      "algorithm\n",
      "Article\n",
      "Bayesian network\n",
      "body movement\n",
      "controlled study\n",
      "data analysis\n",
      "deep learning\n",
      "domain model\n",
      "experimental study\n",
      "human\n",
      "human activity recognition\n",
      "information processing\n",
      "internet of things\n",
      "Markov state model\n",
      "mathematical model\n",
      "neural architecture search\n",
      "performance\n",
      "physical model\n",
      "sampling\n",
      "telehealth\n",
      "Cyclic intervals\n",
      "Temporal constraints\n",
      "Temporal reasoning\n",
      "Algebra\n",
      "Expert systems\n",
      "Intelligent systems\n",
      "Constraint-based\n",
      "Cyclic intervals\n",
      "Cyclic process\n",
      "Real applications\n",
      "Spatial and temporal reasoning\n",
      "Standard time\n",
      "Temporal constraints\n",
      "Temporal reasoning\n",
      "Temporal logic\n",
      "'NoneType' object has no attribute 'xpath'\n",
      "Benchmarking tools\n",
      "Combinatorics\n",
      "Current system\n",
      "Decision version\n",
      "Empirical studies\n",
      "Hard instances\n",
      "Learning costs\n",
      "NP Complete\n",
      "Problem solvers\n",
      "Random problem\n",
      "Real-world application\n",
      "Relational Database\n",
      "Relational learning\n",
      "Scale-up\n",
      "Database systems\n",
      "Education\n",
      "Phase transitions\n",
      "Robot learning\n",
      "Learning algorithms\n",
      "'NoneType' object has no attribute 'xpath'\n",
      "Artificial intelligence\n",
      "Data warehouses\n",
      "Decision support systems\n",
      "Inductive logic programming (ILP)\n",
      "Learning systems\n",
      "Dependent-concept learning\n",
      "Experimental evaluation\n",
      "Inductive logic\n",
      "Machine learning techniques\n",
      "Model-driven data warehouse\n",
      "Model-driven Engineering\n",
      "Transformation designs\n",
      "Transformation rules\n",
      "Metadata\n",
      "'NoneType' object has no attribute 'xpath'\n",
      "Bayesian Network Application\n",
      "E-Health\n",
      "IoT-based e-Health Monitoring\n",
      "Machine Learning Application\n",
      "Rule-Engine\n",
      "Uncertain Reasoning\n",
      "Bayesian networks\n",
      "Computer aided instruction\n",
      "Internet of things\n",
      "Ontology\n",
      "Probabilistic logics\n",
      "Sanitary sewers\n",
      "Semantics\n",
      "Sensor networks\n",
      "Bayesian\n",
      "Contextual information\n",
      "Healthcare monitoring\n",
      "Machine learning applications\n",
      "Non-monotonic inference\n",
      "Probabilistic reasoning\n",
      "Rule engine\n",
      "Uncertain reasoning\n",
      "Monitoring\n",
      "GIS\n",
      "GIS database consistency\n",
      "Incremental updating\n",
      "Versioning\n",
      "Database systems\n",
      "Geographic information systems\n",
      "Information systems\n",
      "Integration\n",
      "Database consistency\n",
      "Geographical database\n",
      "Geographical objects\n",
      "GIS-database\n",
      "Global consistency\n",
      "Incremental updating\n",
      "Integration modules\n",
      "Versioning\n",
      "Data integration\n",
      "Fault diagnosis\n",
      "Open systems\n",
      "Physics\n",
      "Quality management\n",
      "Quality of service\n",
      "Standardization\n",
      "Telecommunication network management\n",
      "Testing\n",
      "Wavelength division multiplexing\n",
      "WDM networks\n",
      "Artificial intelligence\n",
      "Failure analysis\n",
      "Fault detection\n",
      "Network management\n",
      "Open systems\n",
      "Physics\n",
      "Quality of service\n",
      "Standardization\n",
      "Telecommunication networks\n",
      "Testing\n",
      "Wavelength division multiplexing\n",
      "Domain theory\n",
      "Dynamic systems modeling\n",
      "Fault management\n",
      "Functional areas\n",
      "Management systems\n",
      "Model-based OPC\n",
      "Telecommunications networks\n",
      "WDM networks\n",
      "Quality management\n",
      "Convolutional and recurrent neural networks\n",
      "Locomotion recognition\n",
      "Neural architecture search\n",
      "Convolution\n",
      "Deep neural networks\n",
      "Network architecture\n",
      "Space research\n",
      "Ubiquitous computing\n",
      "Wearable computers\n",
      "Bayesian optimization\n",
      "Broad spectrum\n",
      "Convolutional neural network\n",
      "Hybrid architectures\n",
      "Hyper-parameter\n",
      "Neural architectures\n",
      "Recognition rates\n",
      "Space explorations\n",
      "Recurrent neural networks\n",
      "Activity recognition\n",
      "Dependent concepts\n",
      "Meta-modeling\n",
      "Machine Learning (cs.LG)\n",
      "Signal Processing (eess.SP)\n",
      "'NoneType' object has no attribute 'xpath'\n",
      "'NoneType' object has no attribute 'xpath'\n",
      "Model transformation by example\n",
      "Model-driven data warehouse\n",
      "Hard task\n",
      "Machine-learning\n",
      "Model transformation\n",
      "Model-driven\n",
      "Model-driven Engineering\n",
      "Research efforts\n",
      "Transformation rules\n",
      "Warehouse automation\n",
      "Data warehouses\n",
      "Software engineering\n",
      "Metadata\n",
      "'NoneType' object has no attribute 'xpath'\n",
      "Algebra\n",
      "Algorithms\n",
      "Association rules\n",
      "Pattern recognition\n",
      "Innovative algorithms\n",
      "Temporal sequences\n",
      "Data mining\n",
      "Artificial intelligence\n",
      "Education\n",
      "Heuristic programming\n",
      "Learning systems\n",
      "Robot learning\n",
      "Testing\n",
      "Data driven (DD)\n",
      "Heuristic search\n",
      "International conferences\n",
      "Learning problems\n",
      "Machine-learning\n",
      "Relational learning\n",
      "Target concept\n",
      "Test strategies\n",
      "Top-down\n",
      "Training sets\n",
      "Transition (Jel Classifications:E52 ,E41 ,E31)\n",
      "Learning algorithms\n",
      "2 track unified process\n",
      "Data warehouse\n",
      "Data warehouse-as-a-service\n",
      "Model driven architecture\n",
      "Business domain\n",
      "Data warehousing\n",
      "Design frameworks\n",
      "Development cycle\n",
      "Engineering process\n",
      "Integrated approach\n",
      "model driven architecture\n",
      "Model driven architectures\n",
      "Model-driven\n",
      "Process-oriented approaches\n",
      "Technical requirement\n",
      "Technical risks\n",
      "Unified method\n",
      "Unified process\n",
      "Architecture\n",
      "Software architecture\n",
      "Standardization\n",
      "Data warehouses\n",
      "Cutting tools\n",
      "Industrial robots\n",
      "Milling (machining)\n",
      "A: Milling\n",
      "Added values\n",
      "Continuous simulation\n",
      "Generic simulators\n",
      "Manufacturing performance\n",
      "Milling process\n",
      "Real time sensors\n",
      "Sensors data\n",
      "Target machines\n",
      "Tool-workpiece\n",
      "Simulators\n",
      "Branch and bound method\n",
      "Computing cost\n",
      "Constraint optimization problems\n",
      "Heuristics\n",
      "Computational experiment\n",
      "Computing cost\n",
      "Constraint optimization problems\n",
      "Lower bounds\n",
      "MAX-CSP\n",
      "New branches\n",
      "Artificial intelligence\n",
      "Computational methods\n",
      "Heuristic methods\n",
      "Optimization\n",
      "Parameter estimation\n",
      "Artificial intelligence\n",
      "Constrained optimization\n",
      "Constraint satisfaction problems\n",
      "Expert systems\n",
      "Optimization\n",
      "Problem solving\n",
      "Problem solving\n",
      "Branch and bound method\n",
      "'NoneType' object has no attribute 'xpath'\n",
      "Algorithms\n",
      "Constraint theory\n",
      "Database systems\n",
      "Problem solving\n",
      "Statistical mechanics\n",
      "Systems analysis\n",
      "Data mining\n",
      "Knowledge based systems\n",
      "Point sequential patterns\n",
      "Sequence reasoning\n",
      "Sequential temporal constraint satisfaction problems (STCSP)\n",
      "Event prediction\n",
      "Frequency evaluation\n",
      "General model\n",
      "Sequential patterns\n",
      "Temporal constraint satisfaction problems\n",
      "Pattern recognition\n",
      "Constraint satisfaction problems\n",
      "Artificial intelligence\n",
      "Intelligent robots\n",
      "Internet of things\n",
      "Learning systems\n",
      "Military applications\n",
      "Public risks\n",
      "Signal processing\n",
      "Ambient assisted living\n",
      "Assessment and monitoring\n",
      "Automatic assessment\n",
      "Baby-monitor\n",
      "Emotional supports\n",
      "Human robot Interaction (HRI)\n",
      "Internet of Things (IOT)\n",
      "Learning rates\n",
      "Human robot interaction\n",
      "Artificial intelligence\n",
      "Decision theory\n",
      "Decision boundary\n",
      "Generalized interval\n",
      "Identification process\n",
      "Learning patterns\n",
      "Monitoring system\n",
      "Multi-dimensional space\n",
      "Nested generalized exemplars\n",
      "Qualitative relation\n",
      "Learning algorithms\n",
      "Fault Management\n",
      "Model-Based Diagnosis\n",
      "Telecommunication Networks\n",
      "Alarm systems\n",
      "Supervisory personnel\n",
      "Communicating finite state machines\n",
      "Fault management\n",
      "Learning database\n",
      "Learning modules\n",
      "Model based diagnosis\n",
      "Telecommunication management networks\n",
      "Telecommunication networks\n",
      "Alarm\n",
      "Error propagation\n",
      "Fault diagnostic\n",
      "Modeling\n",
      "Ring network\n",
      "Supervision\n",
      "Synchronous digital hierarchy\n",
      "Telecommunication management network\n",
      "Error propagation\n",
      "Fault diagnostic\n",
      "Ring network\n",
      "Synchronous digital hierarchy network\n",
      "Telecommunication management network\n",
      "Bit error rate\n",
      "Data processing\n",
      "Data structures\n",
      "Error analysis\n",
      "Failure analysis\n",
      "Mathematical models\n",
      "Multipath propagation\n",
      "Telecommunication networks\n",
      "Digital communication systems\n",
      "Bitmap representation\n",
      "Memory consumption factor\n",
      "Mining algorithms\n",
      "Algorithms\n",
      "Association rules\n",
      "Database systems\n",
      "Pattern recognition\n",
      "Data mining\n",
      "Active networks\n",
      "Algorithms\n",
      "Flow interactions\n",
      "Genetic algorithms\n",
      "Scheduling\n",
      "Analytic solvers\n",
      "Complex interactions\n",
      "Complex scheduling\n",
      "Evolutionary computations\n",
      "Geographical datums\n",
      "Interacting networks\n",
      "Interaction networks\n",
      "Validation rates\n",
      "Diesel engines\n",
      "'NoneType' object has no attribute 'xpath'\n",
      "Complex systems\n",
      "Emergence\n",
      "Evolution\n",
      "Geographical database\n",
      "Computer programming\n",
      "Control system analysis\n",
      "Control theory\n",
      "Education\n",
      "Error analysis\n",
      "Heuristic methods\n",
      "Heuristic programming\n",
      "Ketones\n",
      "Logic programming\n",
      "Modular robots\n",
      "Parameter estimation\n",
      "Testing\n",
      "Benchmark models\n",
      "Bottom-up\n",
      "Complete search\n",
      "Control parameters\n",
      "Heuristic search\n",
      "Hypothesis space\n",
      "Inductive Logic Programming\n",
      "International conferences\n",
      "Learning problems\n",
      "Learning strategies\n",
      "Order parameter\n",
      "Phase transitions\n",
      "Problem resolution\n",
      "Relational learning\n",
      "Search Algorithms\n",
      "Symbolic learning\n",
      "Top-down\n",
      "Learning algorithms\n",
      "Data warehouse development\n",
      "Data warehousing process\n",
      "Design frameworks\n",
      "Engineering process\n",
      "Integrated approach\n",
      "Iterative development\n",
      "Model driven architectures\n",
      "Technical aspects\n",
      "Iterative methods\n",
      "Software architecture\n",
      "Data warehouses\n",
      "Body sensor networks\n",
      "Human activity recognition\n",
      "Hyperparameter optimization\n",
      "Inductive bias\n",
      "Meta-learning\n",
      "Sensor characteristics\n",
      "Sensor deployments\n",
      "Sensor-rich environments\n",
      "Body sensor networks\n",
      "Computation theory\n",
      "Economic and social effects\n",
      "Inductive sensors\n",
      "Pattern recognition\n",
      "Stochastic models\n",
      "Stochastic systems\n",
      "Wearable sensors\n",
      "Activity recognition\n",
      "Human activity recognition\n",
      "Hyper-parameter optimizations\n",
      "Inductive bias\n",
      "Inductive process\n",
      "Metalearning\n",
      "Recognition models\n",
      "Sensor characteristics\n",
      "Sensor-rich environment\n",
      "Sensors deployments\n",
      "Topology\n",
      "human\n",
      "human activities\n",
      "machine learning\n",
      "motion\n",
      "reproducibility\n",
      "statistical bias\n",
      "Bias\n",
      "Human Activities\n",
      "Humans\n",
      "Machine Learning\n",
      "Motion\n",
      "Reproducibility of Results\n",
      "Complex systems\n",
      "Consistent property\n",
      "Emergent property\n",
      "Geographical database updating\n",
      "Geographical information system evolution\n",
      "Propagation algorithm\n",
      "Algorithms\n",
      "Constraint theory\n",
      "Database systems\n",
      "Large scale systems\n",
      "Emergent property\n",
      "Geographical database updating\n",
      "Geographical information system evolution\n",
      "Geographic information systems\n",
      "Artificial intelligence\n",
      "Benchmarking\n",
      "Computer aided instruction\n",
      "Data warehouses\n",
      "Learning systems\n",
      "Back-ground knowledge\n",
      "Machine learning applications\n",
      "Machine learning techniques\n",
      "Model transformation\n",
      "Model-driven data warehouse\n",
      "Project experiences\n",
      "Relational learning systems\n",
      "Transformation rules\n",
      "Inductive logic programming (ILP)\n",
      "Deep learning\n",
      "Domain knowledge\n",
      "Human activity recognition\n",
      "Neural architecture search\n",
      "Complex systems\n",
      "Emergence\n",
      "Evolution\n",
      "Geographical database\n",
      "Large scale systems\n",
      "Modal analysis\n",
      "Complicated systems\n",
      "Emergence\n",
      "Evolution\n",
      "Evolution process\n",
      "Geographical data\n",
      "Geographical database\n",
      "Geographic information systems\n",
      "Activity recognition\n",
      "Health monitoring\n",
      "Intention recognition\n",
      "Kitchen activities\n",
      "Unscripted activities\n",
      "Assisted living\n",
      "Nutrition\n",
      "Ontology\n",
      "State space methods\n",
      "Action sequences\n",
      "Activity recognition\n",
      "Health condition\n",
      "Health monitoring\n",
      "Intention recognition\n",
      "Noisy observations\n",
      "State - space models\n",
      "Unscripted activities\n",
      "Kitchens\n",
      "Computer vision\n",
      "Social networking (online)\n",
      "Frame-by-frame basis\n",
      "Healthy subjects\n",
      "Human movements\n",
      "Non-linear manifold learning\n",
      "On-line estimation\n",
      "Online quality\n",
      "Quality of movements\n",
      "Statistical modeling\n",
      "Musculoskeletal system\n",
      "Cameras\n",
      "Feature extraction\n",
      "Hidden Markov models\n",
      "Neural networks\n",
      "Skeleton\n",
      "Training\n",
      "Visualization\n",
      "Computer vision\n",
      "Hidden Markov models\n",
      "Motion analysis\n",
      "Musculoskeletal system\n",
      "Analysis frameworks\n",
      "Body pose\n",
      "Body pose estimation\n",
      "Depth image\n",
      "Features extraction\n",
      "Hidden-Markov models\n",
      "Movement analysis\n",
      "Neural-networks\n",
      "Pose space\n",
      "Skeleton\n",
      "Neural networks\n",
      "Continuous-state HMM motion analysis\n",
      "Human motion assessment\n",
      "Human motion quality\n",
      "Motion abnormality detection\n",
      "Musculoskeletal system\n",
      "Patient rehabilitation\n",
      "Abnormality detection\n",
      "Comparative studies\n",
      "Continuous state\n",
      "Feature representation\n",
      "First order markovian\n",
      "Frame-by-frame basis\n",
      "Human motions\n",
      "Quantitative assessments\n",
      "Dynamics\n",
      "Galaxies: nuclei\n",
      "Galaxy: centre\n",
      "Gravitation\n",
      "Stellar dynamics\n",
      "Accelerometers\n",
      "Inertial navigation systems\n",
      "Statistical tests\n",
      "Telephone sets\n",
      "Activity monitoring\n",
      "Automatic recognition\n",
      "Commercial grade\n",
      "Comparative studies\n",
      "Fully automated\n",
      "Home environment\n",
      "Temporal resolution\n",
      "Vision-based approaches\n",
      "Wearable sensors\n",
      "level set methods\n",
      "Modeling methodologies\n",
      "registration\n",
      "segmentation\n",
      "shape interpolation\n",
      "Computerized tomography\n",
      "Interpolation\n",
      "Medical imaging\n",
      "Numerical methods\n",
      "Level Set method\n",
      "Modeling methodology\n",
      "registration\n",
      "Segmentation informations\n",
      "Sequential processing\n",
      "Shape interpolation\n",
      "Spatial configuration\n",
      "Synergistic interaction\n",
      "Image segmentation\n",
      "3D/4D object modeling\n",
      "interpolation\n",
      "level set methods\n",
      "RBF\n",
      "segmentation\n",
      "Integrated frameworks\n",
      "Integrated segmentation\n",
      "Level Set method\n",
      "Object model\n",
      "Radial basis functions\n",
      "RBF\n",
      "Segmentation informations\n",
      "Spatial configuration\n",
      "Image segmentation\n",
      "Magnetic resonance imaging\n",
      "Numerical methods\n",
      "Radial basis function networks\n",
      "Three dimensional\n",
      "Interpolation\n",
      "algorithm\n",
      "article\n",
      "computer assisted diagnosis\n",
      "computer assisted tomography\n",
      "image enhancement\n",
      "methodology\n",
      "nuclear magnetic resonance imaging\n",
      "reproducibility\n",
      "sample size\n",
      "sensitivity and specificity\n",
      "system analysis\n",
      "three dimensional imaging\n",
      "Algorithms\n",
      "Image Enhancement\n",
      "Image Interpretation, Computer-Assisted\n",
      "Imaging, Three-Dimensional\n",
      "Magnetic Resonance Imaging\n",
      "Reproducibility of Results\n",
      "Sample Size\n",
      "Sensitivity and Specificity\n",
      "Systems Integration\n",
      "Tomography, X-Ray Computed\n",
      "Ambient Assisted Living\n",
      "Ambient Intelligence\n",
      "eHealth\n",
      "Internet of Things\n",
      "Ambient intelligence\n",
      "eHealth\n",
      "Houses\n",
      "Internet of things\n",
      "Remote patient monitoring\n",
      "Activities of Daily Living\n",
      "Ambient assisted living\n",
      "Ambient assisted living (AAL)\n",
      "Healthcare monitoring\n",
      "Medical conditions\n",
      "Multimodal system\n",
      "Residential environment\n",
      "Sensor technologies\n",
      "Assisted living\n",
      "Computer vision\n",
      "Encoding (symbols)\n",
      "Image coding\n",
      "Image segmentation\n",
      "Baseline models\n",
      "Depth image\n",
      "Depth information\n",
      "Encoding schemes\n",
      "People detection\n",
      "Region of interest\n",
      "Selection methods\n",
      "Three channel\n",
      "Classification (of information)\n",
      "Activities of daily living\n",
      "Assistive monitoring\n",
      "Computer vision\n",
      "Energy expenditure\n",
      "Assisted living\n",
      "Calorimetry\n",
      "Table lookup\n",
      "Activities of Daily Living\n",
      "Activity intensities\n",
      "Assistive monitoring\n",
      "Controlled environment\n",
      "Energy expenditure\n",
      "Physical activity levels\n",
      "Real-time computer vision\n",
      "Real-time estimation\n",
      "Computer vision\n",
      "Health\n",
      "Kitchens\n",
      "Statistical tests\n",
      "Ubiquitous computing\n",
      "Behaviour recognition\n",
      "Health condition\n",
      "Health monitoring\n",
      "Potential impacts\n",
      "Probabilistic reasoning\n",
      "Quality of life\n",
      "Behavioral research\n",
      "Galaxies: nuclei\n",
      "Galaxy: centre\n",
      "Gravitation\n",
      "Stellar dynamics\n",
      "Black holes\n",
      "Distribution functions\n",
      "Galaxies\n",
      "Gravitation\n",
      "Velocity\n",
      "Black holes\n",
      "Center of gravity\n",
      "Circular orbit\n",
      "Galaxies:Nuclei\n",
      "Galaxy center\n",
      "Host galaxies\n",
      "Orbital resonances\n",
      "Stellar dynamics\n",
      "Stellar populations\n",
      "Stellars\n",
      "Stars\n",
      "eHealth\n",
      "Multi-cameras\n",
      "RGBD sensor\n",
      "Video monitoring\n",
      "Assisted living\n",
      "Automation\n",
      "Budget control\n",
      "eHealth\n",
      "Home health care\n",
      "Houses\n",
      "Software testing\n",
      "Spheres\n",
      "Design and implementations\n",
      "Design considerations\n",
      "Hardware and software\n",
      "Multi-cameras\n",
      "Residential environment\n",
      "Rgb-d sensors\n",
      "Video monitoring\n",
      "Video monitoring systems\n",
      "Monitoring\n",
      "Microphone array\n",
      "Noise-robust ASR\n",
      "âCHiMEâ challenge\n",
      "Mobile devices\n",
      "Signal to noise ratio\n",
      "Speech\n",
      "'CHiME' challenge\n",
      "Microphone arrays\n",
      "Noise robust ASR\n",
      "Noisy environment\n",
      "Per-utterance basis\n",
      "Resulting materials\n",
      "Signal properties\n",
      "Speech separation\n",
      "Speech recognition\n",
      "Confusions\n",
      "English\n",
      "Noise\n",
      "Spanish\n",
      "Speech perception\n",
      "Linguistics\n",
      "Speech processing\n",
      "Speech recognition\n",
      "Confusions\n",
      "English\n",
      "Noise\n",
      "Spanish\n",
      "Speech perception\n",
      "Speech communication\n",
      "Future predictions\n",
      "Speech recognition\n",
      "Speech synthesis\n",
      "Survey of progress\n",
      "Speech\n",
      "Speech communication\n",
      "Speech processing\n",
      "Speech synthesis\n",
      "Surveys\n",
      "Automatic speech recognition\n",
      "Future predictions\n",
      "Key trends\n",
      "Possible futures\n",
      "Research communities\n",
      "Spoken languages\n",
      "Track changes\n",
      "Speech recognition\n",
      "Harmonic analysis\n",
      "Source separation\n",
      "Audio source separation\n",
      "Closed form solutions\n",
      "Data sets\n",
      "Low latency\n",
      "Non-negativity\n",
      "Nonnegative matrix factorization\n",
      "Spectrum decomposition\n",
      "Tikhonov regularization\n",
      "Tikhonov regularization method\n",
      "Harmonic analysis\n",
      "Source separation\n",
      "Factorization\n",
      "Environmental management\n",
      "Knowledge management\n",
      "Machine learning\n",
      "Speech processing\n",
      "Data-driven approach\n",
      "Dialogue management\n",
      "Environmental control system\n",
      "Gaussian Processes\n",
      "Optimal performance\n",
      "Policy optimization\n",
      "Reinforcement learning method\n",
      "Similarity measure\n",
      "Reinforcement learning\n",
      "Evaluation\n",
      "Objective measures\n",
      "Speech intelligibility prediction\n",
      "Speech perception\n",
      "Forecasting\n",
      "Linguistics\n",
      "Probability\n",
      "Probability distributions\n",
      "Speech\n",
      "Speech communication\n",
      "Evaluation\n",
      "Evaluation framework\n",
      "Intelligibility predictions\n",
      "Microscopic modeling\n",
      "Model evaluation\n",
      "Noise conditions\n",
      "Objective measure\n",
      "Speech perception\n",
      "Speech intelligibility\n",
      "Predominant pitch tracking\n",
      "Singing voice\n",
      "Source separation\n",
      "Absolute frequency\n",
      "Binary masks\n",
      "Data sets\n",
      "Ideal binary mask\n",
      "Likelihood estimation\n",
      "Low-latency\n",
      "Nonnegative matrix factorization\n",
      "Offline\n",
      "Phase difference\n",
      "Pitch-tracking\n",
      "Real time constraints\n",
      "Source separation\n",
      "State of the art\n",
      "Tikhonov regularization\n",
      "Time frequency\n",
      "Audio recordings\n",
      "Blind source separation\n",
      "Separation\n",
      "Imputation\n",
      "Speech enhancement\n",
      "Speech recognition\n",
      "Audio acoustics\n",
      "Speech\n",
      "Speech communication\n",
      "Speech enhancement\n",
      "Speech processing\n",
      "Discriminative models\n",
      "Frequency dependencies\n",
      "Imputation\n",
      "Mask estimations\n",
      "Multi-condition trainings\n",
      "Spectral distances\n",
      "Speech detection\n",
      "Stationary noise\n",
      "Speech recognition\n",
      "'CHiME' challenge\n",
      "microphone array\n",
      "Noise-robust ASR\n",
      "Array processing\n",
      "Microphones\n",
      "Signal processing\n",
      "Speech\n",
      "'CHiME' challenge\n",
      "Automatic speech recognition\n",
      "Baseline systems\n",
      "Data collection\n",
      "Microphone arrays\n",
      "Noise robust ASR\n",
      "Speech recognition technology\n",
      "Speech separation\n",
      "Speech recognition\n",
      "Deep neural network\n",
      "mask estimation\n",
      "noise-robust automatic speech recognition\n",
      "synchrony spectra\n",
      "Frequency estimation\n",
      "Speech\n",
      "Auditory modeling\n",
      "Automatic speech recognition\n",
      "Baseline systems\n",
      "Deep neural networks\n",
      "Frequency channels\n",
      "Mask estimations\n",
      "Noise-robust automatic speech recognition\n",
      "Noisy environment\n",
      "Speech recognition\n",
      "Assistive technology (AT)\n",
      "Disability\n",
      "Dysarthria\n",
      "Internet of things (IoT)\n",
      "Smart home\n",
      "Speech recognition\n",
      "Automation\n",
      "Environmental management\n",
      "Internet of things\n",
      "User interfaces\n",
      "Assistive technology\n",
      "Disability\n",
      "Dysarthria\n",
      "Internet of Things (IOT)\n",
      "Smart homes\n",
      "Speech recognition\n",
      "computer interface\n",
      "human\n",
      "Internet\n",
      "Italy\n",
      "motor dysfunction\n",
      "self help device\n",
      "speech\n",
      "speech disorder\n",
      "Humans\n",
      "Internet\n",
      "Italy\n",
      "Motor Disorders\n",
      "Self-Help Devices\n",
      "Speech\n",
      "Speech Disorders\n",
      "User-Computer Interface\n",
      "ANNs\n",
      "Audiovisual\n",
      "Speech mapping\n",
      "Speech processing\n",
      "Brain\n",
      "Cognitive systems\n",
      "Information use\n",
      "Linguistics\n",
      "Mapping\n",
      "Speech\n",
      "Speech processing\n",
      "ANNs\n",
      "Audio-visual speech\n",
      "Audiovisual\n",
      "Data-driven approach\n",
      "Linguistic features\n",
      "Optimal results\n",
      "Speech acoustics\n",
      "Visual information\n",
      "Audio acoustics\n",
      "Automatic speech recognition\n",
      "Intelligibility\n",
      "Lombard speech\n",
      "Multimodal speech\n",
      "Robust speech processing\n",
      "Visual speech\n",
      "Acoustic noise\n",
      "Audio systems\n",
      "Signal to noise ratio\n",
      "Speech intelligibility\n",
      "Speech processing\n",
      "Automatic speech recognition\n",
      "Lombard speech\n",
      "Multi-modal\n",
      "Robust speech processing\n",
      "Visual speech\n",
      "Speech recognition\n",
      "Disability\n",
      "Environmental control\n",
      "Internet of things (IoT)\n",
      "Smarthome\n",
      "Speech disability\n",
      "Voice recognition\n",
      "Assisted living\n",
      "Automation\n",
      "Environmental engineering\n",
      "Environmental management\n",
      "Intelligent buildings\n",
      "Internet of things\n",
      "User interfaces\n",
      "Disability\n",
      "Environmental control\n",
      "Internet of Things (IOT)\n",
      "Smart homes\n",
      "Speech disabilities\n",
      "Speech recognition\n",
      "harmonic analysis\n",
      "NMF\n",
      "source separation\n",
      "transient analysis\n",
      "Audio frames\n",
      "Harmonic structures\n",
      "Inference methods\n",
      "Low-latency\n",
      "NMF\n",
      "Non-negative matrix factorization algorithms\n",
      "Signal models\n",
      "Signal-to-distortion ratios\n",
      "Spectral peak\n",
      "Factorization\n",
      "Instruments\n",
      "Separation\n",
      "Source separation\n",
      "Transient analysis\n",
      "Harmonic analysis\n",
      "lead instrument separation\n",
      "MIDI-audio alignment\n",
      "score-informed source separation\n",
      "Timbre independent source separation\n",
      "Data sets\n",
      "Information confidence\n",
      "MIDI files\n",
      "Musical score\n",
      "Pitch tracking algorithms\n",
      "Real-world scenario\n",
      "Separation algorithms\n",
      "Time frequency\n",
      "Algorithms\n",
      "Alignment\n",
      "Instruments\n",
      "Separation\n",
      "Source separation\n",
      "Assistive technology\n",
      "Clinical applications of speech technology\n",
      "Application programs\n",
      "Artificial intelligence\n",
      "Learning systems\n",
      "Speech\n",
      "Speech processing\n",
      "Assistive technology\n",
      "Clinical application\n",
      "Computing resource\n",
      "Personalisation\n",
      "Speech technology\n",
      "User driven\n",
      "Speech communication\n",
      "Acoustics\n",
      "Physics\n",
      "Audio-visual\n",
      "Gender differences\n",
      "Lombard effects\n",
      "Lombard speech\n",
      "Speech recognition\n",
      "acoustics\n",
      "adolescent\n",
      "adult\n",
      "adverse event\n",
      "comparative study\n",
      "coping behavior\n",
      "female\n",
      "human\n",
      "male\n",
      "noise\n",
      "phonetics\n",
      "sex factor\n",
      "speech\n",
      "speech analysis\n",
      "speech perception\n",
      "videorecording\n",
      "vision\n",
      "voice\n",
      "young adult\n",
      "Acoustics\n",
      "Adaptation, Psychological\n",
      "Adolescent\n",
      "Adult\n",
      "Female\n",
      "Humans\n",
      "Male\n",
      "Noise\n",
      "Phonetics\n",
      "Sex Factors\n",
      "Speech Acoustics\n",
      "Speech Perception\n",
      "Speech Production Measurement\n",
      "Video Recording\n",
      "Visual Perception\n",
      "Voice Quality\n",
      "Young Adult\n",
      "Microphone array\n",
      "Robust ASR\n",
      "Speech enhancement\n",
      "Train/test mismatch\n",
      "Acoustic noise\n",
      "Feature extraction\n",
      "Microphones\n",
      "Speech\n",
      "Speech enhancement\n",
      "Statistical tests\n",
      "Acoustic conditions\n",
      "Automatic speech recognition\n",
      "Microphone arrays\n",
      "Minimum variance distortionless response\n",
      "Robust ASR\n",
      "Robust speech recognition\n",
      "Signal enhancement\n",
      "Train/test mismatch\n",
      "Speech recognition\n"
     ]
    }
   ],
   "source": [
    "rawdatafolder=\"rawdata/\"\n",
    "from collections import defaultdict\n",
    "\n",
    "for orcid in os.listdir(rawdatafolder):\n",
    "    datafolder=\"data/\"\n",
    "    os.makedirs(datafolder,exist_ok = True)\n",
    "    keywords={'user':defaultdict(int),'indexed':defaultdict(int),'total':0}\n",
    "    \n",
    "    for paper in os.listdir(rawdatafolder+orcid):\n",
    "        try:\n",
    "            doc=pq(filename=f'rawdata/{orcid}/{paper}')\n",
    "            keywords['total']+=1\n",
    "            # print(doc)\n",
    "            for key in doc(\"#authorKeywords span\"):\n",
    "                print(key.text)\n",
    "                keywords['user'][key.text]+=1\n",
    "            for key in doc(\"#indexedKeywords span\"):\n",
    "                print(key.text)\n",
    "                keywords['indexed'][key.text]+=1\n",
    "        except Exception as e:\n",
    "            print(e)\n",
    "            pass\n",
    "    \n",
    "    with open(datafolder+orcid+\".json\",'w') as fp:\n",
    "        json.dump(keywords,fp,indent=4)"
   ]
  },
  {
   "cell_type": "code",
   "execution_count": null,
   "id": "be4db57e",
   "metadata": {},
   "outputs": [],
   "source": []
  },
  {
   "cell_type": "code",
   "execution_count": 6,
   "id": "0ca84aad",
   "metadata": {},
   "outputs": [
    {
     "data": {
      "text/plain": [
       "Signal And Image Processing                    0.6875\n",
       "Artificial Intelligence                        0.6250\n",
       "Computer Vision And Pattern Recognition        0.6250\n",
       "Machine Learning                               0.6250\n",
       "Image Processing                               0.5000\n",
       "Neural And Evolutionary Computing              0.3750\n",
       "Computer Vision                                0.3125\n",
       "Assisted Living                                0.2500\n",
       "Instrumentation And Methods For Astrophysic    0.2500\n",
       "dtype: float64"
      ]
     },
     "execution_count": 6,
     "metadata": {},
     "output_type": "execute_result"
    }
   ],
   "source": [
    "import pandas as pd\n",
    "data=pd.read_json('data/Adeline PAIEMENT.json')\n",
    "data=data/data.loc['total']\n",
    "data.index=[f.split(\"[\")[0].strip().title() for f in data.index]\n",
    "data=data.groupby(data.index).sum()\n",
    "data2=data.sum(axis=1)\n",
    "# [f for f in data.index.str]\n",
    "data2.sort_values(ascending=False)[1:10]"
   ]
  },
  {
   "cell_type": "code",
   "execution_count": 204,
   "id": "af0e09a1",
   "metadata": {},
   "outputs": [
    {
     "data": {
      "text/plain": [
       "2 Track Unified Process    0.021739\n",
       "A: Milling                 0.021739\n",
       "Active Networks            0.021739\n",
       "Activity Learning          0.021739\n",
       "Activity Recognition       0.043478\n",
       "                             ...   \n",
       "Wdm Networks               0.043478\n",
       "Wearable Computers         0.043478\n",
       "Wearable Sensors           0.043478\n",
       "Web Of Things (Wot)        0.021739\n",
       "Web Services               0.021739\n",
       "Name: A, Length: 406, dtype: float64"
      ]
     },
     "execution_count": 204,
     "metadata": {},
     "output_type": "execute_result"
    }
   ],
   "source": [
    "data2.name=\"A\"\n",
    "data2"
   ]
  },
  {
   "cell_type": "markdown",
   "id": "b3479b25",
   "metadata": {},
   "source": [
    "# Data Prepration"
   ]
  },
  {
   "cell_type": "code",
   "execution_count": 18,
   "id": "eac0ea3e",
   "metadata": {
    "ExecuteTime": {
     "end_time": "2022-05-24T22:31:26.035997Z",
     "start_time": "2022-05-24T22:31:25.836570Z"
    }
   },
   "outputs": [
    {
     "name": "stdout",
     "output_type": "stream",
     "text": [
      "data/Adeline PAIEMENT.json\n",
      "data/Ricard MARXER.json\n",
      "data/Herve GLOTIN.json\n",
      "data/Joseph RAZIK.json\n",
      "data/Aomar OSMANI.json\n",
      "                                  Adeline Paiement  Ricard Marxer   \n",
      "Abnormality Detection                       0.0625            NaN  \\\n",
      "Accelerometers                              0.0625            NaN   \n",
      "Action Sequences                            0.0625            NaN   \n",
      "Activities Of Daily Living                  0.1875            NaN   \n",
      "Activity Intensities                        0.0625            NaN   \n",
      "...                                            ...            ...   \n",
      "Wavelength Division Multiplexing               NaN            NaN   \n",
      "Wdm Networks                                   NaN            NaN   \n",
      "Wearable Computers                             NaN            NaN   \n",
      "Web Of Things (Wot)                            NaN            NaN   \n",
      "Web Services                                   NaN            NaN   \n",
      "\n",
      "                                  Herve Glotin  Joseph Razik  Aomar Osmani  \n",
      "Abnormality Detection                      NaN           NaN           NaN  \n",
      "Accelerometers                             NaN           NaN           NaN  \n",
      "Action Sequences                           NaN           NaN           NaN  \n",
      "Activities Of Daily Living                 NaN           NaN           NaN  \n",
      "Activity Intensities                       NaN           NaN           NaN  \n",
      "...                                        ...           ...           ...  \n",
      "Wavelength Division Multiplexing           NaN           NaN      0.043478  \n",
      "Wdm Networks                               NaN           NaN      0.043478  \n",
      "Wearable Computers                         NaN           NaN      0.043478  \n",
      "Web Of Things (Wot)                        NaN           NaN      0.021739  \n",
      "Web Services                               NaN           NaN      0.021739  \n",
      "\n",
      "[821 rows x 5 columns]\n"
     ]
    },
    {
     "data": {
      "application/vnd.jupyter.widget-view+json": {
       "model_id": "f1a41ab0fcf44d8090c3b050686af214",
       "version_major": 2,
       "version_minor": 0
      },
      "text/plain": [
       "interactive(children=(Dropdown(description='typ', options=('All', 'relation to Aomar Osmani'), value='All'), D…"
      ]
     },
     "metadata": {},
     "output_type": "display_data"
    }
   ],
   "source": [
    "import pandas as pd\n",
    "\n",
    "# data=pd.read_excel('info.xlsx',header=[0,1],sheet_name='Keywords')\n",
    "\n",
    "# from sklearn.preprocessing import MinMaxScaler\n",
    "\n",
    "\n",
    "dfs=[]\n",
    "for f in os.listdir('data'):\n",
    "    src=f'data/{f}'\n",
    "    print(src)\n",
    "    data=pd.read_json(src)\n",
    "    data=data/data.loc['total']\n",
    "    data.index=[f.split(\"[\")[0].strip().title() for f in data.index]\n",
    "    data=data.groupby(data.index).sum()\n",
    "    data2=data.sum(axis=1)[1:]\n",
    "    # [f for f in data.index.str]\n",
    "    # data2.sort_values(ascending=False)[1:10]\n",
    "    data2.name=f.split(\".\")[0].title()\n",
    "    dfs.append(data2)\n",
    "# for c in data.columns.levels[0]:\n",
    "#     dfs.append(data[c].dropna().set_index('Keyword').rename(columns={'Rate':c}))\n",
    "    \n",
    "relations=pd.concat(dfs,axis=1,join='outer')\n",
    "print(relations)\n",
    "# others=relations.drop(rel2,axis=1).sum(axis=1)\n",
    "# relations=relations.loc[others>0]\n",
    "relations['sum']=relations.sum(axis=1)\n",
    "\n",
    "relations=(relations-relations.min())/(relations.max()-relations.min())\n",
    "\n",
    "\n",
    "def drawGraph(relations,top_n_keywords,prefix,auto_edge_width=False,auto_node_size=False, reuse_keyword=False,show=True):\n",
    "    \n",
    "    from pyvis.network import Network\n",
    "    nt = Network('80vh', '100%',notebook=1)\n",
    "#     nt.options.nodes.borderWidthSelected=10\n",
    "#     nt.options.edges.selectionWidth=10\n",
    "#     nt.set_options({\"nodes\": {\"borderWidthSelected\": 10},\"edges\": {\"selectionWidth\": 10}})\n",
    "    nt.options.set('{\"nodes\": {\"borderWidthSelected\": 10},\"edges\": {\"selectionWidth\": 100}}')\n",
    "    nt.options.edges.selectionWidth=5\n",
    "#     nt.options.edges.smooth.enabled=False\n",
    "\n",
    "    added={}\n",
    "    edgelist=[]\n",
    "    for i, c in enumerate(relations.columns):\n",
    "        if c=='sum':continue\n",
    "        r=relations[c].dropna().sort_values()[::-1][:top_n_keywords]    \n",
    "        src=c\n",
    "        nt.add_node(src, src, title=src, color='red',size=30,gravity=100, x=i//3*800, y=i%3*800,physics=False, shape='box')\n",
    "\n",
    "        for k in r.index:\n",
    "            w=relations.loc[k][c]\n",
    "            mydst=k if reuse_keyword else k+c\n",
    "            if mydst not in added:\n",
    "        #         nt.add_node(mydst, dst, title=dst, color='blue',size=50*e['weight'])\n",
    "                s= 30*w if auto_node_size else 10\n",
    "                nt.add_node(mydst, k, title=k,  color='blue',size=s,mass=s/30,borderWidthSelected=1.5*s)\n",
    "\n",
    "            added[mydst]=1\n",
    "\n",
    "        \n",
    "            if auto_edge_width:\n",
    "                nt.add_edge(src, mydst,color='green',value=w)\n",
    "            else:\n",
    "                nt.add_edge(src, mydst,color='green')\n",
    "\n",
    "\n",
    "    \n",
    "    from IPython.display import HTML\n",
    "    file_out=f'{prefix}_{top_n_keywords}_{auto_edge_width}_{auto_node_size}_{reuse_keyword}.html'\n",
    "    nt.show_buttons()\n",
    "    nt.show(file_out)\n",
    "    if show:\n",
    "        display(HTML(f\"<a href='{file_out}' target='_blank'>Please click here to see the graph in new tab</a> <iframe src='{file_out}' style='width:100%; height:100vh'/>\"))\n",
    "\n",
    "\n",
    "    \n",
    "from ipywidgets import interact\n",
    "me='Aomar Osmani'\n",
    "filterRelated2me=relations.loc[relations[me].notna()]\n",
    "noRelated= filterRelated2me.loc[(filterRelated2me.drop([me,'sum'],axis=1)>0.1).sum(axis=1)>0]\n",
    "\n",
    "data={'All':relations, f'relation to {me}':noRelated}\n",
    "@interact\n",
    "def test(typ=data.keys(), top_n_keywords=[20,50,100,160],auto_edge_width=[False,True],auto_node_size=[False,True],reuse_keyword=[False,True]):\n",
    "    opt={'top_n_keywords':top_n_keywords,\n",
    "         'reuse_keyword':reuse_keyword,             \n",
    "         'auto_edge_width':auto_edge_width,\n",
    "                      'auto_node_size':auto_node_size,\n",
    "                      'prefix':typ\n",
    "                        }\n",
    "    print(opt)\n",
    "    drawGraph(data[typ],**opt)\n",
    "    \n",
    "\n",
    "def generateAllOptions(data,options):\n",
    "#     defdic={k:Npne for k in options}\n",
    "    for t in options['top_n_keywords']:\n",
    "        for e in options['auto_edge_width']:\n",
    "            for n in options['auto_node_size']:\n",
    "                for r in options['reuse_keyword']:\n",
    "                    opt={'top_n_keywords':t,\n",
    "                      'auto_edge_width':e,\n",
    "                      'auto_node_size':n,\n",
    "                      'reuse_keyword':r,\n",
    "                      'prefix':options['prefix'][0]\n",
    "                        }\n",
    "                    print(opt)\n",
    "                    drawGraph(data,show=False,**opt)\n"
   ]
  },
  {
   "cell_type": "code",
   "execution_count": 19,
   "id": "09a915e5",
   "metadata": {},
   "outputs": [
    {
     "name": "stdout",
     "output_type": "stream",
     "text": [
      "Defaulting to user installation because normal site-packages is not writeable\n",
      "Collecting pyvis\n",
      "  Downloading pyvis-0.3.2-py3-none-any.whl (756 kB)\n",
      "\u001b[2K     \u001b[90m━━━━━━━━━━━━━━━━━━━━━━━━━━━━━━━━━━━━━━\u001b[0m \u001b[32m756.0/756.0 KB\u001b[0m \u001b[31m20.8 MB/s\u001b[0m eta \u001b[36m0:00:00\u001b[0m00:01\u001b[0m\n",
      "\u001b[?25hCollecting jsonpickle>=1.4.1\n",
      "  Downloading jsonpickle-3.0.1-py2.py3-none-any.whl (40 kB)\n",
      "\u001b[2K     \u001b[90m━━━━━━━━━━━━━━━━━━━━━━━━━━━━━━━━━━━━━━━━\u001b[0m \u001b[32m40.5/40.5 KB\u001b[0m \u001b[31m7.2 MB/s\u001b[0m eta \u001b[36m0:00:00\u001b[0m\n",
      "\u001b[?25hRequirement already satisfied: ipython>=5.3.0 in /config/.local/lib/python3.10/site-packages (from pyvis) (8.13.2)\n",
      "Requirement already satisfied: jinja2>=2.9.6 in /config/.local/lib/python3.10/site-packages (from pyvis) (3.1.2)\n",
      "Collecting networkx>=1.11\n",
      "  Downloading networkx-3.1-py3-none-any.whl (2.1 MB)\n",
      "\u001b[2K     \u001b[90m━━━━━━━━━━━━━━━━━━━━━━━━━━━━━━━━━━━━━━━━\u001b[0m \u001b[32m2.1/2.1 MB\u001b[0m \u001b[31m85.4 MB/s\u001b[0m eta \u001b[36m0:00:00\u001b[0m\n",
      "\u001b[?25hRequirement already satisfied: backcall in /config/.local/lib/python3.10/site-packages (from ipython>=5.3.0->pyvis) (0.2.0)\n",
      "Requirement already satisfied: pexpect>4.3 in /config/.local/lib/python3.10/site-packages (from ipython>=5.3.0->pyvis) (4.8.0)\n",
      "Requirement already satisfied: stack-data in /config/.local/lib/python3.10/site-packages (from ipython>=5.3.0->pyvis) (0.6.2)\n",
      "Requirement already satisfied: pygments>=2.4.0 in /config/.local/lib/python3.10/site-packages (from ipython>=5.3.0->pyvis) (2.15.1)\n",
      "Requirement already satisfied: traitlets>=5 in /config/.local/lib/python3.10/site-packages (from ipython>=5.3.0->pyvis) (5.9.0)\n",
      "Requirement already satisfied: matplotlib-inline in /config/.local/lib/python3.10/site-packages (from ipython>=5.3.0->pyvis) (0.1.6)\n",
      "Requirement already satisfied: pickleshare in /config/.local/lib/python3.10/site-packages (from ipython>=5.3.0->pyvis) (0.7.5)\n",
      "Requirement already satisfied: decorator in /config/.local/lib/python3.10/site-packages (from ipython>=5.3.0->pyvis) (5.1.1)\n",
      "Requirement already satisfied: jedi>=0.16 in /config/.local/lib/python3.10/site-packages (from ipython>=5.3.0->pyvis) (0.18.2)\n",
      "Requirement already satisfied: prompt-toolkit!=3.0.37,<3.1.0,>=3.0.30 in /config/.local/lib/python3.10/site-packages (from ipython>=5.3.0->pyvis) (3.0.38)\n",
      "Requirement already satisfied: MarkupSafe>=2.0 in /config/.local/lib/python3.10/site-packages (from jinja2>=2.9.6->pyvis) (2.1.2)\n",
      "Requirement already satisfied: parso<0.9.0,>=0.8.0 in /config/.local/lib/python3.10/site-packages (from jedi>=0.16->ipython>=5.3.0->pyvis) (0.8.3)\n",
      "Requirement already satisfied: ptyprocess>=0.5 in /config/.local/lib/python3.10/site-packages (from pexpect>4.3->ipython>=5.3.0->pyvis) (0.7.0)\n",
      "Requirement already satisfied: wcwidth in /config/.local/lib/python3.10/site-packages (from prompt-toolkit!=3.0.37,<3.1.0,>=3.0.30->ipython>=5.3.0->pyvis) (0.2.6)\n",
      "Requirement already satisfied: executing>=1.2.0 in /config/.local/lib/python3.10/site-packages (from stack-data->ipython>=5.3.0->pyvis) (1.2.0)\n",
      "Requirement already satisfied: pure-eval in /config/.local/lib/python3.10/site-packages (from stack-data->ipython>=5.3.0->pyvis) (0.2.2)\n",
      "Requirement already satisfied: asttokens>=2.1.0 in /config/.local/lib/python3.10/site-packages (from stack-data->ipython>=5.3.0->pyvis) (2.2.1)\n",
      "Requirement already satisfied: six in /usr/lib/python3/dist-packages (from asttokens>=2.1.0->stack-data->ipython>=5.3.0->pyvis) (1.16.0)\n",
      "Installing collected packages: networkx, jsonpickle, pyvis\n",
      "Successfully installed jsonpickle-3.0.1 networkx-3.1 pyvis-0.3.2\n",
      "Note: you may need to restart the kernel to use updated packages.\n"
     ]
    }
   ],
   "source": [
    "pip install pyvis"
   ]
  },
  {
   "cell_type": "code",
   "execution_count": 2,
   "id": "489f6062",
   "metadata": {},
   "outputs": [
    {
     "name": "stdout",
     "output_type": "stream",
     "text": [
      "Defaulting to user installation because normal site-packages is not writeable\n",
      "Requirement already satisfied: sklearn in /config/.local/lib/python3.10/site-packages (0.0.post5)\n",
      "Note: you may need to restart the kernel to use updated packages.\n"
     ]
    }
   ],
   "source": [
    "pip install sklearn"
   ]
  },
  {
   "cell_type": "markdown",
   "id": "80977895",
   "metadata": {
    "ExecuteTime": {
     "end_time": "2022-05-22T15:49:58.916141Z",
     "start_time": "2022-05-22T15:49:58.914438Z"
    }
   },
   "source": [
    "# Draw Top Keywords"
   ]
  },
  {
   "cell_type": "code",
   "execution_count": 3,
   "id": "f28c9a7e",
   "metadata": {
    "ExecuteTime": {
     "end_time": "2022-05-24T22:31:39.537740Z",
     "start_time": "2022-05-24T22:31:39.497046Z"
    }
   },
   "outputs": [
    {
     "data": {
      "text/html": [
       "<a href='top_30_False_False_True.html' target='_blank'>Please click here to see the graph in new tab</a> <iframe src='top_30_False_False_True.html' style='width:100%; height:100vh'/>"
      ],
      "text/plain": [
       "<IPython.core.display.HTML object>"
      ]
     },
     "metadata": {},
     "output_type": "display_data"
    }
   ],
   "source": [
    "# Generate specific option\n",
    "drawGraph(relations,\n",
    "          top_n_keywords=30,\n",
    "          auto_edge_width=False,\n",
    "          auto_node_size=False,\n",
    "          reuse_keyword=True,\n",
    "          prefix='top')\n"
   ]
  },
  {
   "cell_type": "code",
   "execution_count": null,
   "id": "2089e1e4",
   "metadata": {
    "ExecuteTime": {
     "end_time": "2022-05-24T08:40:02.758076Z",
     "start_time": "2022-05-24T08:40:02.752464Z"
    },
    "scrolled": true
   },
   "outputs": [],
   "source": [
    "# Generate all option\n",
    "generateAllOptions(relations,{\n",
    "        'prefix':['all'],\n",
    "        'top_n_keywords':[20,50,160], \n",
    "        'auto_edge_width':[0,1],\n",
    "        'auto_node_size':[0,1],\n",
    "        'reuse_keyword':[0,1]\n",
    "})\n",
    "\n"
   ]
  },
  {
   "cell_type": "markdown",
   "id": "331a2213",
   "metadata": {
    "heading_collapsed": true
   },
   "source": [
    "# Dray Top Keywords Related To"
   ]
  },
  {
   "cell_type": "code",
   "execution_count": null,
   "id": "36a427a4",
   "metadata": {
    "ExecuteTime": {
     "end_time": "2022-05-22T17:56:43.923400Z",
     "start_time": "2022-05-22T17:56:43.900222Z"
    },
    "hidden": true
   },
   "outputs": [],
   "source": []
  },
  {
   "cell_type": "code",
   "execution_count": null,
   "id": "5407f5b9",
   "metadata": {
    "ExecuteTime": {
     "end_time": "2022-05-24T08:40:06.640453Z",
     "start_time": "2022-05-24T08:40:06.635104Z"
    },
    "hidden": true
   },
   "outputs": [],
   "source": [
    "drawGraph(noRelated,\n",
    "          top_n_keywords=160,\n",
    "          reuse_keyword=True,\n",
    "          auto_node_size=False,\n",
    "          auto_edge_width=False,\n",
    "          prefix='myrel')\n"
   ]
  },
  {
   "cell_type": "code",
   "execution_count": null,
   "id": "0367bd10",
   "metadata": {
    "ExecuteTime": {
     "end_time": "2022-05-22T17:50:01.529256Z",
     "start_time": "2022-05-22T17:50:01.523460Z"
    },
    "hidden": true
   },
   "outputs": [],
   "source": [
    "# Generate all option\n",
    "generateAllOptions(relations,{\n",
    "        'prefix':['all'],\n",
    "        'top_n_keywords':[20,50,100], \n",
    "        'auto_edge_width':[0,1],\n",
    "        'auto_node_size':[0,1],\n",
    "        'reuse_keyword':[0,1]\n",
    "})\n",
    "\n"
   ]
  }
 ],
 "metadata": {
  "kernelspec": {
   "display_name": "Python 3",
   "language": "python",
   "name": "python3"
  },
  "language_info": {
   "codemirror_mode": {
    "name": "ipython",
    "version": 3
   },
   "file_extension": ".py",
   "mimetype": "text/x-python",
   "name": "python",
   "nbconvert_exporter": "python",
   "pygments_lexer": "ipython3",
   "version": "3.10.6"
  },
  "toc": {
   "base_numbering": 1,
   "nav_menu": {},
   "number_sections": false,
   "sideBar": true,
   "skip_h1_title": false,
   "title_cell": "Table of Contents",
   "title_sidebar": "Contents",
   "toc_cell": false,
   "toc_position": {},
   "toc_section_display": true,
   "toc_window_display": false
  },
  "varInspector": {
   "cols": {
    "lenName": 16,
    "lenType": 16,
    "lenVar": 40
   },
   "kernels_config": {
    "python": {
     "delete_cmd_postfix": "",
     "delete_cmd_prefix": "del ",
     "library": "var_list.py",
     "varRefreshCmd": "print(var_dic_list())"
    },
    "r": {
     "delete_cmd_postfix": ") ",
     "delete_cmd_prefix": "rm(",
     "library": "var_list.r",
     "varRefreshCmd": "cat(var_dic_list()) "
    }
   },
   "types_to_exclude": [
    "module",
    "function",
    "builtin_function_or_method",
    "instance",
    "_Feature"
   ],
   "window_display": false
  },
  "vscode": {
   "interpreter": {
    "hash": "31f2aee4e71d21fbe5cf8b01ff0e069b9275f58929596ceb00d14d90e3e16cd6"
   }
  }
 },
 "nbformat": 4,
 "nbformat_minor": 5
}
